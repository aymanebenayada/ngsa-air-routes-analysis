{
 "cells": [
  {
   "cell_type": "markdown",
   "metadata": {
    "toc": true
   },
   "source": [
    "<h1>Table of Contents<span class=\"tocSkip\"></span></h1>\n",
    "<div class=\"toc\"><ul class=\"toc-item\"><li><span><a href=\"#Air-route-network-exploration\" data-toc-modified-id=\"Air-route-network-exploration-1\"><span class=\"toc-item-num\">1&nbsp;&nbsp;</span>Air route network exploration</a></span><ul class=\"toc-item\"><li><span><a href=\"#Preprocessing\" data-toc-modified-id=\"Preprocessing-1.1\"><span class=\"toc-item-num\">1.1&nbsp;&nbsp;</span>Preprocessing</a></span><ul class=\"toc-item\"><li><span><a href=\"#Handling-missing-values\" data-toc-modified-id=\"Handling-missing-values-1.1.1\"><span class=\"toc-item-num\">1.1.1&nbsp;&nbsp;</span>Handling missing values</a></span></li><li><span><a href=\"#Handling-duplicate-lines\" data-toc-modified-id=\"Handling-duplicate-lines-1.1.2\"><span class=\"toc-item-num\">1.1.2&nbsp;&nbsp;</span>Handling duplicate lines</a></span></li><li><span><a href=\"#Preprocess\" data-toc-modified-id=\"Preprocess-1.1.3\"><span class=\"toc-item-num\">1.1.3&nbsp;&nbsp;</span>Preprocess</a></span></li><li><span><a href=\"#Creating-the-graphs\" data-toc-modified-id=\"Creating-the-graphs-1.1.4\"><span class=\"toc-item-num\">1.1.4&nbsp;&nbsp;</span>Creating the graphs</a></span><ul class=\"toc-item\"><li><span><a href=\"#Directed-graph\" data-toc-modified-id=\"Directed-graph-1.1.4.1\"><span class=\"toc-item-num\">1.1.4.1&nbsp;&nbsp;</span>Directed graph</a></span></li><li><span><a href=\"#Undirected-graph\" data-toc-modified-id=\"Undirected-graph-1.1.4.2\"><span class=\"toc-item-num\">1.1.4.2&nbsp;&nbsp;</span>Undirected graph</a></span></li></ul></li></ul></li><li><span><a href=\"#Basic-statistics\" data-toc-modified-id=\"Basic-statistics-1.2\"><span class=\"toc-item-num\">1.2&nbsp;&nbsp;</span>Basic statistics</a></span></li><li><span><a href=\"#Degree-Distribution\" data-toc-modified-id=\"Degree-Distribution-1.3\"><span class=\"toc-item-num\">1.3&nbsp;&nbsp;</span>Degree Distribution</a></span><ul class=\"toc-item\"><li><span><a href=\"#Biggest-airports-(in/out-degrees)\" data-toc-modified-id=\"Biggest-airports-(in/out-degrees)-1.3.1\"><span class=\"toc-item-num\">1.3.1&nbsp;&nbsp;</span>Biggest airports (in/out degrees)</a></span></li><li><span><a href=\"#Plot-of-the-(in/out)-degree-distribution\" data-toc-modified-id=\"Plot-of-the-(in/out)-degree-distribution-1.3.2\"><span class=\"toc-item-num\">1.3.2&nbsp;&nbsp;</span>Plot of the (in/out)-degree distribution</a></span></li></ul></li><li><span><a href=\"#Robustness\" data-toc-modified-id=\"Robustness-1.4\"><span class=\"toc-item-num\">1.4&nbsp;&nbsp;</span>Robustness</a></span></li></ul></li></ul></div>"
   ]
  },
  {
   "cell_type": "markdown",
   "metadata": {},
   "source": [
    "# Air route network exploration"
   ]
  },
  {
   "cell_type": "code",
   "execution_count": 178,
   "metadata": {
    "collapsed": true
   },
   "outputs": [],
   "source": [
    "from collections import Counter\n",
    "import utils\n",
    "\n",
    "import matplotlib.pyplot as plt \n",
    "import networkx as nx\n",
    "import pandas as pd\n",
    "import numpy as np\n",
    "import os"
   ]
  },
  {
   "cell_type": "code",
   "execution_count": 132,
   "metadata": {},
   "outputs": [
    {
     "name": "stdout",
     "output_type": "stream",
     "text": [
      "The autoreload extension is already loaded. To reload it, use:\n",
      "  %reload_ext autoreload\n"
     ]
    }
   ],
   "source": [
    "%matplotlib inline\n",
    "%load_ext autoreload\n",
    "%autoreload 2"
   ]
  },
  {
   "cell_type": "code",
   "execution_count": 4,
   "metadata": {
    "collapsed": true
   },
   "outputs": [],
   "source": [
    "path_data = \"../data/\""
   ]
  },
  {
   "cell_type": "markdown",
   "metadata": {},
   "source": [
    "Dataset source: https://openflights.org/data.html"
   ]
  },
  {
   "cell_type": "markdown",
   "metadata": {},
   "source": [
    "**ROUTES DATASET**\n",
    "- **Airline** 2-letter (IATA) or 3-letter (ICAO) code of the airline.\n",
    "- **Airline ID** Unique OpenFlights identifier for airline (see Airline).\n",
    "- **Source airport** 3-letter (IATA) or 4-letter (ICAO) code of the source airport.\n",
    "- **Source airport ID** Unique OpenFlights identifier for source airport (see Airport)\n",
    "- **Destination airport** 3-letter (IATA) or 4-letter (ICAO) code of the destination airport.\n",
    "- **Destination airport ID** Unique OpenFlights identifier for destination airport (see Airport)\n",
    "- **Codeshare** \"Y\" if this flight is a codeshare (that is, not operated by Airline, but another carrier), empty otherwise.\n",
    "- **Stops** Number of stops on this flight (\"0\" for direct)\n",
    "- **Equipment** 3-letter codes for plane type(s) generally used on this flight, separated by spaces\n",
    "\n",
    "\n",
    "**AIRPORTS DATASET**\n",
    "- **Airport ID** Unique OpenFlights identifier for this airport.\n",
    "- **Name** Name of airport. May or may not contain the City name.\n",
    "- **City** Main city served by airport. May be spelled differently from Name.\n",
    "- **Country** Country or territory where airport is located. See countries.dat to cross-reference to ISO 3166-1 codes.\n",
    "- **IATA** 3-letter IATA code. Null if not assigned/unknown.\n",
    "- **ICAO** 4-letter ICAO code. Null if not assigned.\n",
    "- **Latitude**Decimal degrees, usually to six significant digits. Negative is South, positive is North.\n",
    "- **Longitude** Decimal degrees, usually to six significant digits. Negative is West, positive is East.\n",
    "- **Altitude** In feet.\n",
    "- **Timezone** Hours offset from UTC. Fractional hours are expressed as decimals, eg. India is 5.5.\n",
    "- **DST** Daylight savings time. One of E (Europe), A (US/Canada), S (South America), O (Australia), Z (New Zealand), N (None) or U (Unknown). See also: Help: Time\n",
    "- **Tz database time zone** Timezone in \"tz\" (Olson) format, eg. \"America/Los_Angeles\".\n",
    "- **Type** Type of the airport. Value \"airport\" for air terminals, \"station\" for train stations, \"port\" for ferry terminals and \"unknown\" if not known. In airports.csv, only type=airport is included.\n",
    "- **Source** Source of this data. \"OurAirports\" for data sourced from OurAirports, \"Legacy\" for old data not matched to OurAirports (mostly DAFIF), \"User\" for unverified user contributions. In airports.csv, only source=OurAirports is included."
   ]
  },
  {
   "cell_type": "code",
   "execution_count": 197,
   "metadata": {
    "collapsed": true
   },
   "outputs": [],
   "source": [
    "col_names_routes = [\"airline\", \"id_airline\", \"source_airport\", \n",
    "             \"id_source_airport\", \"destination_airport\",\n",
    "             \"id_destination_airport\", \"codeshare\",\n",
    "             \"stops\", \"equipment\"\n",
    "            ]\n",
    "\n",
    "col_names_airports = [\"id_airport\", \"name\", \"city\", \n",
    "             \"country\", \"IATA\", \"ICAO\", \"latitude\",\n",
    "             \"longitude\", \"altitude\", \"tz\", \"dst\", \"tz_db\",\n",
    "             \"type\", \"source\"\n",
    "            ]\n",
    "\n",
    "df = pd.read_table(os.path.join(path_data, \"routes.dat\"),\n",
    "                   sep=\",\", names=col_names_routes)\n",
    "\n",
    "df_airports = pd.read_table(os.path.join(path_data, \"airports.dat\"),\n",
    "                   sep=\",\", names=col_names_airports, index_col=0)"
   ]
  },
  {
   "cell_type": "code",
   "execution_count": 198,
   "metadata": {},
   "outputs": [
    {
     "data": {
      "text/html": [
       "<div>\n",
       "<style scoped>\n",
       "    .dataframe tbody tr th:only-of-type {\n",
       "        vertical-align: middle;\n",
       "    }\n",
       "\n",
       "    .dataframe tbody tr th {\n",
       "        vertical-align: top;\n",
       "    }\n",
       "\n",
       "    .dataframe thead th {\n",
       "        text-align: right;\n",
       "    }\n",
       "</style>\n",
       "<table border=\"1\" class=\"dataframe\">\n",
       "  <thead>\n",
       "    <tr style=\"text-align: right;\">\n",
       "      <th></th>\n",
       "      <th>airline</th>\n",
       "      <th>id_airline</th>\n",
       "      <th>source_airport</th>\n",
       "      <th>id_source_airport</th>\n",
       "      <th>destination_airport</th>\n",
       "      <th>id_destination_airport</th>\n",
       "      <th>codeshare</th>\n",
       "      <th>stops</th>\n",
       "      <th>equipment</th>\n",
       "    </tr>\n",
       "  </thead>\n",
       "  <tbody>\n",
       "    <tr>\n",
       "      <th>0</th>\n",
       "      <td>2B</td>\n",
       "      <td>410</td>\n",
       "      <td>AER</td>\n",
       "      <td>2965</td>\n",
       "      <td>KZN</td>\n",
       "      <td>2990</td>\n",
       "      <td>NaN</td>\n",
       "      <td>0</td>\n",
       "      <td>CR2</td>\n",
       "    </tr>\n",
       "    <tr>\n",
       "      <th>1</th>\n",
       "      <td>2B</td>\n",
       "      <td>410</td>\n",
       "      <td>ASF</td>\n",
       "      <td>2966</td>\n",
       "      <td>KZN</td>\n",
       "      <td>2990</td>\n",
       "      <td>NaN</td>\n",
       "      <td>0</td>\n",
       "      <td>CR2</td>\n",
       "    </tr>\n",
       "    <tr>\n",
       "      <th>2</th>\n",
       "      <td>2B</td>\n",
       "      <td>410</td>\n",
       "      <td>ASF</td>\n",
       "      <td>2966</td>\n",
       "      <td>MRV</td>\n",
       "      <td>2962</td>\n",
       "      <td>NaN</td>\n",
       "      <td>0</td>\n",
       "      <td>CR2</td>\n",
       "    </tr>\n",
       "    <tr>\n",
       "      <th>3</th>\n",
       "      <td>2B</td>\n",
       "      <td>410</td>\n",
       "      <td>CEK</td>\n",
       "      <td>2968</td>\n",
       "      <td>KZN</td>\n",
       "      <td>2990</td>\n",
       "      <td>NaN</td>\n",
       "      <td>0</td>\n",
       "      <td>CR2</td>\n",
       "    </tr>\n",
       "    <tr>\n",
       "      <th>4</th>\n",
       "      <td>2B</td>\n",
       "      <td>410</td>\n",
       "      <td>CEK</td>\n",
       "      <td>2968</td>\n",
       "      <td>OVB</td>\n",
       "      <td>4078</td>\n",
       "      <td>NaN</td>\n",
       "      <td>0</td>\n",
       "      <td>CR2</td>\n",
       "    </tr>\n",
       "  </tbody>\n",
       "</table>\n",
       "</div>"
      ],
      "text/plain": [
       "  airline id_airline source_airport id_source_airport destination_airport  \\\n",
       "0      2B        410            AER              2965                 KZN   \n",
       "1      2B        410            ASF              2966                 KZN   \n",
       "2      2B        410            ASF              2966                 MRV   \n",
       "3      2B        410            CEK              2968                 KZN   \n",
       "4      2B        410            CEK              2968                 OVB   \n",
       "\n",
       "  id_destination_airport codeshare  stops equipment  \n",
       "0                   2990       NaN      0       CR2  \n",
       "1                   2990       NaN      0       CR2  \n",
       "2                   2962       NaN      0       CR2  \n",
       "3                   2990       NaN      0       CR2  \n",
       "4                   4078       NaN      0       CR2  "
      ]
     },
     "execution_count": 198,
     "metadata": {},
     "output_type": "execute_result"
    }
   ],
   "source": [
    "df.head()"
   ]
  },
  {
   "cell_type": "code",
   "execution_count": 199,
   "metadata": {},
   "outputs": [
    {
     "data": {
      "text/html": [
       "<div>\n",
       "<style scoped>\n",
       "    .dataframe tbody tr th:only-of-type {\n",
       "        vertical-align: middle;\n",
       "    }\n",
       "\n",
       "    .dataframe tbody tr th {\n",
       "        vertical-align: top;\n",
       "    }\n",
       "\n",
       "    .dataframe thead th {\n",
       "        text-align: right;\n",
       "    }\n",
       "</style>\n",
       "<table border=\"1\" class=\"dataframe\">\n",
       "  <thead>\n",
       "    <tr style=\"text-align: right;\">\n",
       "      <th></th>\n",
       "      <th>name</th>\n",
       "      <th>city</th>\n",
       "      <th>country</th>\n",
       "      <th>IATA</th>\n",
       "      <th>ICAO</th>\n",
       "      <th>latitude</th>\n",
       "      <th>longitude</th>\n",
       "      <th>altitude</th>\n",
       "      <th>tz</th>\n",
       "      <th>dst</th>\n",
       "      <th>tz_db</th>\n",
       "      <th>type</th>\n",
       "      <th>source</th>\n",
       "    </tr>\n",
       "    <tr>\n",
       "      <th>id_airport</th>\n",
       "      <th></th>\n",
       "      <th></th>\n",
       "      <th></th>\n",
       "      <th></th>\n",
       "      <th></th>\n",
       "      <th></th>\n",
       "      <th></th>\n",
       "      <th></th>\n",
       "      <th></th>\n",
       "      <th></th>\n",
       "      <th></th>\n",
       "      <th></th>\n",
       "      <th></th>\n",
       "    </tr>\n",
       "  </thead>\n",
       "  <tbody>\n",
       "    <tr>\n",
       "      <th>1</th>\n",
       "      <td>Goroka Airport</td>\n",
       "      <td>Goroka</td>\n",
       "      <td>Papua New Guinea</td>\n",
       "      <td>GKA</td>\n",
       "      <td>AYGA</td>\n",
       "      <td>-6.081690</td>\n",
       "      <td>145.391998</td>\n",
       "      <td>5282</td>\n",
       "      <td>10</td>\n",
       "      <td>U</td>\n",
       "      <td>Pacific/Port_Moresby</td>\n",
       "      <td>airport</td>\n",
       "      <td>OurAirports</td>\n",
       "    </tr>\n",
       "    <tr>\n",
       "      <th>2</th>\n",
       "      <td>Madang Airport</td>\n",
       "      <td>Madang</td>\n",
       "      <td>Papua New Guinea</td>\n",
       "      <td>MAG</td>\n",
       "      <td>AYMD</td>\n",
       "      <td>-5.207080</td>\n",
       "      <td>145.789001</td>\n",
       "      <td>20</td>\n",
       "      <td>10</td>\n",
       "      <td>U</td>\n",
       "      <td>Pacific/Port_Moresby</td>\n",
       "      <td>airport</td>\n",
       "      <td>OurAirports</td>\n",
       "    </tr>\n",
       "    <tr>\n",
       "      <th>3</th>\n",
       "      <td>Mount Hagen Kagamuga Airport</td>\n",
       "      <td>Mount Hagen</td>\n",
       "      <td>Papua New Guinea</td>\n",
       "      <td>HGU</td>\n",
       "      <td>AYMH</td>\n",
       "      <td>-5.826790</td>\n",
       "      <td>144.296005</td>\n",
       "      <td>5388</td>\n",
       "      <td>10</td>\n",
       "      <td>U</td>\n",
       "      <td>Pacific/Port_Moresby</td>\n",
       "      <td>airport</td>\n",
       "      <td>OurAirports</td>\n",
       "    </tr>\n",
       "    <tr>\n",
       "      <th>4</th>\n",
       "      <td>Nadzab Airport</td>\n",
       "      <td>Nadzab</td>\n",
       "      <td>Papua New Guinea</td>\n",
       "      <td>LAE</td>\n",
       "      <td>AYNZ</td>\n",
       "      <td>-6.569803</td>\n",
       "      <td>146.725977</td>\n",
       "      <td>239</td>\n",
       "      <td>10</td>\n",
       "      <td>U</td>\n",
       "      <td>Pacific/Port_Moresby</td>\n",
       "      <td>airport</td>\n",
       "      <td>OurAirports</td>\n",
       "    </tr>\n",
       "    <tr>\n",
       "      <th>5</th>\n",
       "      <td>Port Moresby Jacksons International Airport</td>\n",
       "      <td>Port Moresby</td>\n",
       "      <td>Papua New Guinea</td>\n",
       "      <td>POM</td>\n",
       "      <td>AYPY</td>\n",
       "      <td>-9.443380</td>\n",
       "      <td>147.220001</td>\n",
       "      <td>146</td>\n",
       "      <td>10</td>\n",
       "      <td>U</td>\n",
       "      <td>Pacific/Port_Moresby</td>\n",
       "      <td>airport</td>\n",
       "      <td>OurAirports</td>\n",
       "    </tr>\n",
       "  </tbody>\n",
       "</table>\n",
       "</div>"
      ],
      "text/plain": [
       "                                                   name          city  \\\n",
       "id_airport                                                              \n",
       "1                                        Goroka Airport        Goroka   \n",
       "2                                        Madang Airport        Madang   \n",
       "3                          Mount Hagen Kagamuga Airport   Mount Hagen   \n",
       "4                                        Nadzab Airport        Nadzab   \n",
       "5           Port Moresby Jacksons International Airport  Port Moresby   \n",
       "\n",
       "                     country IATA  ICAO  latitude   longitude  altitude  tz  \\\n",
       "id_airport                                                                    \n",
       "1           Papua New Guinea  GKA  AYGA -6.081690  145.391998      5282  10   \n",
       "2           Papua New Guinea  MAG  AYMD -5.207080  145.789001        20  10   \n",
       "3           Papua New Guinea  HGU  AYMH -5.826790  144.296005      5388  10   \n",
       "4           Papua New Guinea  LAE  AYNZ -6.569803  146.725977       239  10   \n",
       "5           Papua New Guinea  POM  AYPY -9.443380  147.220001       146  10   \n",
       "\n",
       "           dst                 tz_db     type       source  \n",
       "id_airport                                                  \n",
       "1            U  Pacific/Port_Moresby  airport  OurAirports  \n",
       "2            U  Pacific/Port_Moresby  airport  OurAirports  \n",
       "3            U  Pacific/Port_Moresby  airport  OurAirports  \n",
       "4            U  Pacific/Port_Moresby  airport  OurAirports  \n",
       "5            U  Pacific/Port_Moresby  airport  OurAirports  "
      ]
     },
     "execution_count": 199,
     "metadata": {},
     "output_type": "execute_result"
    }
   ],
   "source": [
    "df_airports.head()"
   ]
  },
  {
   "cell_type": "markdown",
   "metadata": {},
   "source": [
    "## Preprocessing"
   ]
  },
  {
   "cell_type": "markdown",
   "metadata": {},
   "source": [
    "### Handling missing values\n",
    "The dataset provider indicates that *\"the special value \\N is used for \"NULL\" to indicate that no value is available\".* We decided to delete the airports for which no id is linked."
   ]
  },
  {
   "cell_type": "code",
   "execution_count": 56,
   "metadata": {},
   "outputs": [
    {
     "name": "stdout",
     "output_type": "stream",
     "text": [
      "#Missing Source IDs: 220\n",
      "#Missing Source IDs: 221\n"
     ]
    }
   ],
   "source": [
    "# Counting the number of missing id source airports and missing id destination airports\n",
    "print(\"#Missing Source IDs: {}\".format(len(df[df.id_source_airport == \"\\\\N\"])))\n",
    "print(\"#Missing Source IDs: {}\".format(len(df[df.id_destination_airport == \"\\\\N\"])))"
   ]
  },
  {
   "cell_type": "markdown",
   "metadata": {},
   "source": [
    "### Handling duplicate lines"
   ]
  },
  {
   "cell_type": "markdown",
   "metadata": {},
   "source": [
    "As we do not consider airlines or equipments, we delete duplicate lines (i.e. with same id_source_airport AND id_source_airport)."
   ]
  },
  {
   "cell_type": "code",
   "execution_count": 108,
   "metadata": {},
   "outputs": [
    {
     "data": {
      "text/html": [
       "<div>\n",
       "<style scoped>\n",
       "    .dataframe tbody tr th:only-of-type {\n",
       "        vertical-align: middle;\n",
       "    }\n",
       "\n",
       "    .dataframe tbody tr th {\n",
       "        vertical-align: top;\n",
       "    }\n",
       "\n",
       "    .dataframe thead th {\n",
       "        text-align: right;\n",
       "    }\n",
       "</style>\n",
       "<table border=\"1\" class=\"dataframe\">\n",
       "  <thead>\n",
       "    <tr style=\"text-align: right;\">\n",
       "      <th></th>\n",
       "      <th>airline</th>\n",
       "      <th>id_airline</th>\n",
       "      <th>source_airport</th>\n",
       "      <th>id_source_airport</th>\n",
       "      <th>destination_airport</th>\n",
       "      <th>id_destination_airport</th>\n",
       "      <th>codeshare</th>\n",
       "      <th>stops</th>\n",
       "      <th>equipment</th>\n",
       "    </tr>\n",
       "  </thead>\n",
       "  <tbody>\n",
       "    <tr>\n",
       "      <th>8150</th>\n",
       "      <td>AC</td>\n",
       "      <td>330</td>\n",
       "      <td>YOW</td>\n",
       "      <td>100</td>\n",
       "      <td>YYZ</td>\n",
       "      <td>193</td>\n",
       "      <td>NaN</td>\n",
       "      <td>0</td>\n",
       "      <td>320 319 E90 763 E75</td>\n",
       "    </tr>\n",
       "    <tr>\n",
       "      <th>36971</th>\n",
       "      <td>KL</td>\n",
       "      <td>3090</td>\n",
       "      <td>YOW</td>\n",
       "      <td>100</td>\n",
       "      <td>YYZ</td>\n",
       "      <td>193</td>\n",
       "      <td>Y</td>\n",
       "      <td>0</td>\n",
       "      <td>737</td>\n",
       "    </tr>\n",
       "    <tr>\n",
       "      <th>64720</th>\n",
       "      <td>WS</td>\n",
       "      <td>5416</td>\n",
       "      <td>YOW</td>\n",
       "      <td>100</td>\n",
       "      <td>YYZ</td>\n",
       "      <td>193</td>\n",
       "      <td>NaN</td>\n",
       "      <td>0</td>\n",
       "      <td>736 73W</td>\n",
       "    </tr>\n",
       "  </tbody>\n",
       "</table>\n",
       "</div>"
      ],
      "text/plain": [
       "      airline id_airline source_airport id_source_airport destination_airport  \\\n",
       "8150       AC        330            YOW               100                 YYZ   \n",
       "36971      KL       3090            YOW               100                 YYZ   \n",
       "64720      WS       5416            YOW               100                 YYZ   \n",
       "\n",
       "      id_destination_airport codeshare  stops            equipment  \n",
       "8150                     193       NaN      0  320 319 E90 763 E75  \n",
       "36971                    193         Y      0                  737  \n",
       "64720                    193       NaN      0              736 73W  "
      ]
     },
     "execution_count": 108,
     "metadata": {},
     "output_type": "execute_result"
    }
   ],
   "source": [
    "# Example\n",
    "df[((df.id_source_airport == \"100\") & (df.id_destination_airport == \"193\"))]"
   ]
  },
  {
   "cell_type": "markdown",
   "metadata": {},
   "source": [
    "### Preprocess"
   ]
  },
  {
   "cell_type": "code",
   "execution_count": 262,
   "metadata": {
    "collapsed": true
   },
   "outputs": [],
   "source": [
    "def preprocess(df):\n",
    "    # Delete rows with missing ids\n",
    "    df_processed = df[((df.id_source_airport != \"\\\\N\") & (df.id_destination_airport != \"\\\\N\"))]\n",
    "    \n",
    "    # Keep only [\"id_source_airport\", \"id_destination_airport\"] col\n",
    "    # And drop duplicates\n",
    "    df_processed = df_processed[[\"id_source_airport\", \n",
    "                       \"id_destination_airport\"]].drop_duplicates()\n",
    "    \n",
    "    # Convert ids to numeric\n",
    "    df_processed.id_source_airport = df_processed.id_source_airport.map(pd.to_numeric)\n",
    "    df_processed.id_destination_airport = df_processed.id_destination_airport.map(pd.to_numeric)\n",
    "    \n",
    "    return df_processed"
   ]
  },
  {
   "cell_type": "code",
   "execution_count": 263,
   "metadata": {},
   "outputs": [
    {
     "data": {
      "text/plain": [
       "(37274, 2)"
      ]
     },
     "execution_count": 263,
     "metadata": {},
     "output_type": "execute_result"
    }
   ],
   "source": [
    "df_processed = preprocess(df)\n",
    "df_processed.shape"
   ]
  },
  {
   "cell_type": "markdown",
   "metadata": {},
   "source": [
    "### Creating the graphs"
   ]
  },
  {
   "cell_type": "code",
   "execution_count": 215,
   "metadata": {
    "collapsed": true
   },
   "outputs": [],
   "source": [
    "arr_edges = np.array(df_processed)"
   ]
  },
  {
   "cell_type": "code",
   "execution_count": 216,
   "metadata": {},
   "outputs": [
    {
     "data": {
      "text/plain": [
       "(37274, 2)"
      ]
     },
     "execution_count": 216,
     "metadata": {},
     "output_type": "execute_result"
    }
   ],
   "source": [
    "arr_edges.shape"
   ]
  },
  {
   "cell_type": "markdown",
   "metadata": {},
   "source": [
    "#### Directed graph"
   ]
  },
  {
   "cell_type": "code",
   "execution_count": 217,
   "metadata": {
    "collapsed": true
   },
   "outputs": [],
   "source": [
    "G_dir = nx.DiGraph()\n",
    "G_dir.add_edges_from(arr_edges)"
   ]
  },
  {
   "cell_type": "code",
   "execution_count": 218,
   "metadata": {},
   "outputs": [
    {
     "data": {
      "text/plain": [
       "37274"
      ]
     },
     "execution_count": 218,
     "metadata": {},
     "output_type": "execute_result"
    }
   ],
   "source": [
    "len(G_dir.edges())"
   ]
  },
  {
   "cell_type": "markdown",
   "metadata": {},
   "source": [
    "#### Undirected graph"
   ]
  },
  {
   "cell_type": "code",
   "execution_count": 287,
   "metadata": {
    "collapsed": true
   },
   "outputs": [],
   "source": [
    "G = nx.Graph()\n",
    "G.add_edges_from(arr_edges)"
   ]
  },
  {
   "cell_type": "code",
   "execution_count": 288,
   "metadata": {},
   "outputs": [
    {
     "data": {
      "text/plain": [
       "19079"
      ]
     },
     "execution_count": 288,
     "metadata": {},
     "output_type": "execute_result"
    }
   ],
   "source": [
    "len(G.edges())"
   ]
  },
  {
   "cell_type": "markdown",
   "metadata": {},
   "source": [
    "## Basic statistics"
   ]
  },
  {
   "cell_type": "code",
   "execution_count": 219,
   "metadata": {},
   "outputs": [
    {
     "name": "stdout",
     "output_type": "stream",
     "text": [
      "#Routes: 37274\n",
      "#Unique Source Airports: 3315\n",
      "#Unique Target Airports: 3321\n",
      "#Nodes: 3330\n"
     ]
    }
   ],
   "source": [
    "print(\"#Routes: {}\".format(df_processed.shape[0]))\n",
    "print(\"#Unique Source Airports: {}\".format(df_processed.id_source_airport.nunique()))\n",
    "print(\"#Unique Target Airports: {}\".format(df_processed.id_destination_airport.nunique()))\n",
    "nodes = np.unique(np.concatenate([df_processed.id_source_airport, df_processed.id_destination_airport]))\n",
    "print(\"#Nodes: {}\".format(len(nodes)))"
   ]
  },
  {
   "cell_type": "markdown",
   "metadata": {},
   "source": [
    "## Degree Distribution"
   ]
  },
  {
   "cell_type": "code",
   "execution_count": 220,
   "metadata": {
    "collapsed": true
   },
   "outputs": [],
   "source": [
    "# {(id_airport, in_degree)} dict\n",
    "in_degrees_dic = dict(G_dir.in_degree())\n",
    "# List of in_degrees\n",
    "in_degrees_list = in_degrees_dic.values()\n",
    "\n",
    "# {(id_airport, out_degree)} dict\n",
    "out_degrees_dic = dict(G_dir.out_degree())\n",
    "# List of out_degrees\n",
    "out_degrees_list = out_degrees_dic.values()"
   ]
  },
  {
   "cell_type": "markdown",
   "metadata": {},
   "source": [
    "### Biggest airports (in/out degrees)"
   ]
  },
  {
   "cell_type": "code",
   "execution_count": 221,
   "metadata": {},
   "outputs": [
    {
     "name": "stdout",
     "output_type": "stream",
     "text": [
      "Max in-degree (nodes ['340']): 238\n",
      "Max out-degree (nodes ['340']): 239\n"
     ]
    }
   ],
   "source": [
    "max_in = max(in_degrees_list)\n",
    "max_out = max(out_degrees_list)\n",
    "\n",
    "# Find node id with degrees max_in and max_out\n",
    "max_in_nodes = utils.find_key(in_degrees_dic, max_in)\n",
    "max_out_nodes = utils.find_key(out_degrees_dic, max_out)\n",
    "\n",
    "print(\"Max in-degree (nodes {}): {}\".format(max_in_nodes, max_in))\n",
    "print(\"Max out-degree (nodes {}): {}\".format(max_out_nodes, max_out))"
   ]
  },
  {
   "cell_type": "code",
   "execution_count": 271,
   "metadata": {},
   "outputs": [
    {
     "data": {
      "text/html": [
       "<div>\n",
       "<style scoped>\n",
       "    .dataframe tbody tr th:only-of-type {\n",
       "        vertical-align: middle;\n",
       "    }\n",
       "\n",
       "    .dataframe tbody tr th {\n",
       "        vertical-align: top;\n",
       "    }\n",
       "\n",
       "    .dataframe thead th {\n",
       "        text-align: right;\n",
       "    }\n",
       "</style>\n",
       "<table border=\"1\" class=\"dataframe\">\n",
       "  <thead>\n",
       "    <tr style=\"text-align: right;\">\n",
       "      <th></th>\n",
       "      <th>name</th>\n",
       "      <th>city</th>\n",
       "      <th>country</th>\n",
       "      <th>IATA</th>\n",
       "    </tr>\n",
       "    <tr>\n",
       "      <th>id_source_airport</th>\n",
       "      <th></th>\n",
       "      <th></th>\n",
       "      <th></th>\n",
       "      <th></th>\n",
       "    </tr>\n",
       "  </thead>\n",
       "  <tbody>\n",
       "    <tr>\n",
       "      <th>340</th>\n",
       "      <td>Frankfurt am Main International Airport</td>\n",
       "      <td>Frankfurt</td>\n",
       "      <td>Germany</td>\n",
       "      <td>FRA</td>\n",
       "    </tr>\n",
       "    <tr>\n",
       "      <th>1382</th>\n",
       "      <td>Charles de Gaulle International Airport</td>\n",
       "      <td>Paris</td>\n",
       "      <td>France</td>\n",
       "      <td>CDG</td>\n",
       "    </tr>\n",
       "    <tr>\n",
       "      <th>580</th>\n",
       "      <td>Amsterdam Airport Schiphol</td>\n",
       "      <td>Amsterdam</td>\n",
       "      <td>Netherlands</td>\n",
       "      <td>AMS</td>\n",
       "    </tr>\n",
       "    <tr>\n",
       "      <th>1701</th>\n",
       "      <td>Atatürk International Airport</td>\n",
       "      <td>Istanbul</td>\n",
       "      <td>Turkey</td>\n",
       "      <td>IST</td>\n",
       "    </tr>\n",
       "    <tr>\n",
       "      <th>3682</th>\n",
       "      <td>Hartsfield Jackson Atlanta International Airport</td>\n",
       "      <td>Atlanta</td>\n",
       "      <td>United States</td>\n",
       "      <td>ATL</td>\n",
       "    </tr>\n",
       "    <tr>\n",
       "      <th>3364</th>\n",
       "      <td>Beijing Capital International Airport</td>\n",
       "      <td>Beijing</td>\n",
       "      <td>China</td>\n",
       "      <td>PEK</td>\n",
       "    </tr>\n",
       "  </tbody>\n",
       "</table>\n",
       "</div>"
      ],
      "text/plain": [
       "                                                               name  \\\n",
       "id_source_airport                                                     \n",
       "340                         Frankfurt am Main International Airport   \n",
       "1382                        Charles de Gaulle International Airport   \n",
       "580                                      Amsterdam Airport Schiphol   \n",
       "1701                                  Atatürk International Airport   \n",
       "3682               Hartsfield Jackson Atlanta International Airport   \n",
       "3364                          Beijing Capital International Airport   \n",
       "\n",
       "                        city        country IATA  \n",
       "id_source_airport                                 \n",
       "340                Frankfurt        Germany  FRA  \n",
       "1382                   Paris         France  CDG  \n",
       "580                Amsterdam    Netherlands  AMS  \n",
       "1701                Istanbul         Turkey  IST  \n",
       "3682                 Atlanta  United States  ATL  \n",
       "3364                 Beijing          China  PEK  "
      ]
     },
     "execution_count": 271,
     "metadata": {},
     "output_type": "execute_result"
    }
   ],
   "source": [
    "# 6 \"biggest\" airports regarding out_degree\n",
    "df_processed.groupby(\"id_source_airport\").count().\\\n",
    "        sort_values(\"id_destination_airport\", ascending=False)[:6].\\\n",
    "        join(df_airports)[[\"name\", \"city\", \"country\", \"IATA\"]]"
   ]
  },
  {
   "cell_type": "code",
   "execution_count": 272,
   "metadata": {},
   "outputs": [
    {
     "data": {
      "text/html": [
       "<div>\n",
       "<style scoped>\n",
       "    .dataframe tbody tr th:only-of-type {\n",
       "        vertical-align: middle;\n",
       "    }\n",
       "\n",
       "    .dataframe tbody tr th {\n",
       "        vertical-align: top;\n",
       "    }\n",
       "\n",
       "    .dataframe thead th {\n",
       "        text-align: right;\n",
       "    }\n",
       "</style>\n",
       "<table border=\"1\" class=\"dataframe\">\n",
       "  <thead>\n",
       "    <tr style=\"text-align: right;\">\n",
       "      <th></th>\n",
       "      <th>name</th>\n",
       "      <th>city</th>\n",
       "      <th>country</th>\n",
       "      <th>IATA</th>\n",
       "    </tr>\n",
       "    <tr>\n",
       "      <th>id_destination_airport</th>\n",
       "      <th></th>\n",
       "      <th></th>\n",
       "      <th></th>\n",
       "      <th></th>\n",
       "    </tr>\n",
       "  </thead>\n",
       "  <tbody>\n",
       "    <tr>\n",
       "      <th>340</th>\n",
       "      <td>Frankfurt am Main International Airport</td>\n",
       "      <td>Frankfurt</td>\n",
       "      <td>Germany</td>\n",
       "      <td>FRA</td>\n",
       "    </tr>\n",
       "    <tr>\n",
       "      <th>1382</th>\n",
       "      <td>Charles de Gaulle International Airport</td>\n",
       "      <td>Paris</td>\n",
       "      <td>France</td>\n",
       "      <td>CDG</td>\n",
       "    </tr>\n",
       "    <tr>\n",
       "      <th>580</th>\n",
       "      <td>Amsterdam Airport Schiphol</td>\n",
       "      <td>Amsterdam</td>\n",
       "      <td>Netherlands</td>\n",
       "      <td>AMS</td>\n",
       "    </tr>\n",
       "    <tr>\n",
       "      <th>1701</th>\n",
       "      <td>Atatürk International Airport</td>\n",
       "      <td>Istanbul</td>\n",
       "      <td>Turkey</td>\n",
       "      <td>IST</td>\n",
       "    </tr>\n",
       "    <tr>\n",
       "      <th>3682</th>\n",
       "      <td>Hartsfield Jackson Atlanta International Airport</td>\n",
       "      <td>Atlanta</td>\n",
       "      <td>United States</td>\n",
       "      <td>ATL</td>\n",
       "    </tr>\n",
       "    <tr>\n",
       "      <th>3364</th>\n",
       "      <td>Beijing Capital International Airport</td>\n",
       "      <td>Beijing</td>\n",
       "      <td>China</td>\n",
       "      <td>PEK</td>\n",
       "    </tr>\n",
       "  </tbody>\n",
       "</table>\n",
       "</div>"
      ],
      "text/plain": [
       "                                                                    name  \\\n",
       "id_destination_airport                                                     \n",
       "340                              Frankfurt am Main International Airport   \n",
       "1382                             Charles de Gaulle International Airport   \n",
       "580                                           Amsterdam Airport Schiphol   \n",
       "1701                                       Atatürk International Airport   \n",
       "3682                    Hartsfield Jackson Atlanta International Airport   \n",
       "3364                               Beijing Capital International Airport   \n",
       "\n",
       "                             city        country IATA  \n",
       "id_destination_airport                                 \n",
       "340                     Frankfurt        Germany  FRA  \n",
       "1382                        Paris         France  CDG  \n",
       "580                     Amsterdam    Netherlands  AMS  \n",
       "1701                     Istanbul         Turkey  IST  \n",
       "3682                      Atlanta  United States  ATL  \n",
       "3364                      Beijing          China  PEK  "
      ]
     },
     "execution_count": 272,
     "metadata": {},
     "output_type": "execute_result"
    }
   ],
   "source": [
    "# 6 \"biggest\" airports regarding in_degree\n",
    "df_processed.groupby(\"id_destination_airport\").count().\\\n",
    "        sort_values(\"id_source_airport\", ascending=False)[:6].\\\n",
    "        join(df_airports)[[\"name\", \"city\", \"country\", \"IATA\"]]"
   ]
  },
  {
   "cell_type": "markdown",
   "metadata": {},
   "source": [
    "### Plot of the (in/out)-degree distribution"
   ]
  },
  {
   "cell_type": "code",
   "execution_count": 280,
   "metadata": {},
   "outputs": [
    {
     "data": {
      "image/png": "[encoded data removed]",
      "text/plain": [
       "<matplotlib.figure.Figure at 0x12332c160>"
      ]
     },
     "metadata": {},
     "output_type": "display_data"
    }
   ],
   "source": [
    "utils.plot_distribution(G_dir, what=\"in\", title=\"In-Degree distribution\")"
   ]
  },
  {
   "cell_type": "code",
   "execution_count": 281,
   "metadata": {},
   "outputs": [
    {
     "data": {
      "image/png": "[encoded data removed]",
      "text/plain": [
       "<matplotlib.figure.Figure at 0x117ea7b00>"
      ]
     },
     "metadata": {},
     "output_type": "display_data"
    }
   ],
   "source": [
    "utils.plot_distribution(G_dir, what=\"out\", title=\"Out-Degree distribution\")"
   ]
  },
  {
   "cell_type": "markdown",
   "metadata": {},
   "source": [
    "## Robustness"
   ]
  },
  {
   "cell_type": "code",
   "execution_count": 295,
   "metadata": {
    "collapsed": true
   },
   "outputs": [],
   "source": [
    "gcc = max(nx.connected_component_subgraphs(G), key=len)\n",
    "(props, Y_random, Y_target) = utils.create_features_for_plot(0, 0.2, 10, gcc)"
   ]
  },
  {
   "cell_type": "code",
   "execution_count": 297,
   "metadata": {},
   "outputs": [
    {
     "data": {
      "image/png": "[encoded data removed]",
      "text/plain": [
       "<matplotlib.figure.Figure at 0x119d8d940>"
      ]
     },
     "metadata": {},
     "output_type": "display_data"
    }
   ],
   "source": [
    "utils.plot_robustness(props, Y_random, Y_target)"
   ]
  }
 ],
 "metadata": {
  "kernelspec": {
   "display_name": "Python 3",
   "language": "python",
   "name": "python3"
  },
  "language_info": {
   "codemirror_mode": {
    "name": "ipython",
    "version": 3
   },
   "file_extension": ".py",
   "mimetype": "text/x-python",
   "name": "python",
   "nbconvert_exporter": "python",
   "pygments_lexer": "ipython3",
   "version": "3.6.3"
  },
  "toc": {
   "nav_menu": {},
   "number_sections": true,
   "sideBar": true,
   "skip_h1_title": false,
   "title_cell": "Table of Contents",
   "title_sidebar": "Contents",
   "toc_cell": true,
   "toc_position": {
    "height": "calc(100% - 180px)",
    "left": "10px",
    "top": "150px",
    "width": "165px"
   },
   "toc_section_display": true,
   "toc_window_display": false
  },
  "varInspector": {
   "cols": {
    "lenName": 16,
    "lenType": 16,
    "lenVar": 40
   },
   "kernels_config": {
    "python": {
     "delete_cmd_postfix": "",
     "delete_cmd_prefix": "del ",
     "library": "var_list.py",
     "varRefreshCmd": "print(var_dic_list())"
    },
    "r": {
     "delete_cmd_postfix": ") ",
     "delete_cmd_prefix": "rm(",
     "library": "var_list.r",
     "varRefreshCmd": "cat(var_dic_list()) "
    }
   },
   "types_to_exclude": [
    "module",
    "function",
    "builtin_function_or_method",
    "instance",
    "_Feature"
   ],
   "window_display": false
  }
 },
 "nbformat": 4,
 "nbformat_minor": 2
}
