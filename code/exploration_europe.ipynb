{
 "cells": [
  {
   "cell_type": "markdown",
   "metadata": {
    "toc": "true"
   },
   "source": [
    "<h1>Table of Contents<span class=\"tocSkip\"></span></h1>\n",
    "<div class=\"toc\"><ul class=\"toc-item\"><li><span><a href=\"#Air-route-network-exploration\" data-toc-modified-id=\"Air-route-network-exploration-1\"><span class=\"toc-item-num\">1&nbsp;&nbsp;</span>Air route network exploration</a></span><ul class=\"toc-item\"><li><span><a href=\"#Preprocessing\" data-toc-modified-id=\"Preprocessing-1.1\"><span class=\"toc-item-num\">1.1&nbsp;&nbsp;</span>Preprocessing</a></span><ul class=\"toc-item\"><li><span><a href=\"#Limiting-the-dataset-to-Europe\" data-toc-modified-id=\"Limiting-the-dataset-to-Europe-1.1.1\"><span class=\"toc-item-num\">1.1.1&nbsp;&nbsp;</span>Limiting the dataset to Europe</a></span></li><li><span><a href=\"#Handling-missing-values\" data-toc-modified-id=\"Handling-missing-values-1.1.2\"><span class=\"toc-item-num\">1.1.2&nbsp;&nbsp;</span>Handling missing values</a></span></li><li><span><a href=\"#Handling-duplicate-lines\" data-toc-modified-id=\"Handling-duplicate-lines-1.1.3\"><span class=\"toc-item-num\">1.1.3&nbsp;&nbsp;</span>Handling duplicate lines</a></span></li><li><span><a href=\"#Preprocess\" data-toc-modified-id=\"Preprocess-1.1.4\"><span class=\"toc-item-num\">1.1.4&nbsp;&nbsp;</span>Preprocess</a></span></li><li><span><a href=\"#Creating-the-graphs\" data-toc-modified-id=\"Creating-the-graphs-1.1.5\"><span class=\"toc-item-num\">1.1.5&nbsp;&nbsp;</span>Creating the graphs</a></span><ul class=\"toc-item\"><li><span><a href=\"#Directed-graph\" data-toc-modified-id=\"Directed-graph-1.1.5.1\"><span class=\"toc-item-num\">1.1.5.1&nbsp;&nbsp;</span>Directed graph</a></span></li><li><span><a href=\"#Undirected-graph\" data-toc-modified-id=\"Undirected-graph-1.1.5.2\"><span class=\"toc-item-num\">1.1.5.2&nbsp;&nbsp;</span>Undirected graph</a></span></li></ul></li></ul></li><li><span><a href=\"#Basic-statistics\" data-toc-modified-id=\"Basic-statistics-1.2\"><span class=\"toc-item-num\">1.2&nbsp;&nbsp;</span>Basic statistics</a></span></li><li><span><a href=\"#Degree-Distribution\" data-toc-modified-id=\"Degree-Distribution-1.3\"><span class=\"toc-item-num\">1.3&nbsp;&nbsp;</span>Degree Distribution</a></span><ul class=\"toc-item\"><li><span><a href=\"#Biggest-airports-(in/out-degrees)\" data-toc-modified-id=\"Biggest-airports-(in/out-degrees)-1.3.1\"><span class=\"toc-item-num\">1.3.1&nbsp;&nbsp;</span>Biggest airports (in/out degrees)</a></span></li><li><span><a href=\"#Plot-of-the-(in/out)-degree-distribution\" data-toc-modified-id=\"Plot-of-the-(in/out)-degree-distribution-1.3.2\"><span class=\"toc-item-num\">1.3.2&nbsp;&nbsp;</span>Plot of the (in/out)-degree distribution</a></span></li></ul></li><li><span><a href=\"#Robustness\" data-toc-modified-id=\"Robustness-1.4\"><span class=\"toc-item-num\">1.4&nbsp;&nbsp;</span>Robustness</a></span></li><li><span><a href=\"#Hazard-simulation\" data-toc-modified-id=\"Hazard-simulation-1.5\"><span class=\"toc-item-num\">1.5&nbsp;&nbsp;</span>Hazard simulation</a></span><ul class=\"toc-item\"><li><span><a href=\"#Impact-of-Eyjafjallajökull-volcano\" data-toc-modified-id=\"Impact-of-Eyjafjallajökull-volcano-1.5.1\"><span class=\"toc-item-num\">1.5.1&nbsp;&nbsp;</span>Impact of Eyjafjallajökull volcano</a></span></li><li><span><a href=\"#Impact-of-random-hazards-in-Europe\" data-toc-modified-id=\"Impact-of-random-hazards-in-Europe-1.5.2\"><span class=\"toc-item-num\">1.5.2&nbsp;&nbsp;</span>Impact of random hazards in Europe</a></span></li></ul></li><li><span><a href=\"#Europe-map-with-connections\" data-toc-modified-id=\"Europe-map-with-connections-1.6\"><span class=\"toc-item-num\">1.6&nbsp;&nbsp;</span>Europe map with connections</a></span></li></ul></li></ul></div>"
   ]
  },
  {
   "cell_type": "markdown",
   "metadata": {},
   "source": [
    "# Air route network exploration"
   ]
  },
  {
   "cell_type": "code",
   "execution_count": 2,
   "metadata": {},
   "outputs": [],
   "source": [
    "from collections import Counter\n",
    "from tqdm import tqdm\n",
    "import utils\n",
    "\n",
    "import matplotlib.pyplot as plt \n",
    "import networkx as nx\n",
    "import pandas as pd\n",
    "import numpy as np\n",
    "import os"
   ]
  },
  {
   "cell_type": "code",
   "execution_count": 3,
   "metadata": {
    "collapsed": true
   },
   "outputs": [],
   "source": [
    "%matplotlib inline\n",
    "plt.style.use(\"ggplot\")"
   ]
  },
  {
   "cell_type": "code",
   "execution_count": 4,
   "metadata": {
    "collapsed": true
   },
   "outputs": [],
   "source": [
    "%matplotlib inline\n",
    "%load_ext autoreload\n",
    "%autoreload 2"
   ]
  },
  {
   "cell_type": "code",
   "execution_count": 5,
   "metadata": {
    "collapsed": true
   },
   "outputs": [],
   "source": [
    "path_data = \"../data/\""
   ]
  },
  {
   "cell_type": "markdown",
   "metadata": {},
   "source": [
    "Dataset source: https://openflights.org/data.html"
   ]
  },
  {
   "cell_type": "markdown",
   "metadata": {},
   "source": [
    "**ROUTES DATASET**\n",
    "- **Airline** 2-letter (IATA) or 3-letter (ICAO) code of the airline.\n",
    "- **Airline ID** Unique OpenFlights identifier for airline (see Airline).\n",
    "- **Source airport** 3-letter (IATA) or 4-letter (ICAO) code of the source airport.\n",
    "- **Source airport ID** Unique OpenFlights identifier for source airport (see Airport)\n",
    "- **Destination airport** 3-letter (IATA) or 4-letter (ICAO) code of the destination airport.\n",
    "- **Destination airport ID** Unique OpenFlights identifier for destination airport (see Airport)\n",
    "- **Codeshare** \"Y\" if this flight is a codeshare (that is, not operated by Airline, but another carrier), empty otherwise.\n",
    "- **Stops** Number of stops on this flight (\"0\" for direct)\n",
    "- **Equipment** 3-letter codes for plane type(s) generally used on this flight, separated by spaces\n",
    "\n",
    "\n",
    "**AIRPORTS DATASET**\n",
    "- **Airport ID** Unique OpenFlights identifier for this airport.\n",
    "- **Name** Name of airport. May or may not contain the City name.\n",
    "- **City** Main city served by airport. May be spelled differently from Name.\n",
    "- **Country** Country or territory where airport is located. See countries.dat to cross-reference to ISO 3166-1 codes.\n",
    "- **IATA** 3-letter IATA code. Null if not assigned/unknown.\n",
    "- **ICAO** 4-letter ICAO code. Null if not assigned.\n",
    "- **Latitude**Decimal degrees, usually to six significant digits. Negative is South, positive is North.\n",
    "- **Longitude** Decimal degrees, usually to six significant digits. Negative is West, positive is East.\n",
    "- **Altitude** In feet.\n",
    "- **Timezone** Hours offset from UTC. Fractional hours are expressed as decimals, eg. India is 5.5.\n",
    "- **DST** Daylight savings time. One of E (Europe), A (US/Canada), S (South America), O (Australia), Z (New Zealand), N (None) or U (Unknown). See also: Help: Time\n",
    "- **Tz database time zone** Timezone in \"tz\" (Olson) format, eg. \"America/Los_Angeles\".\n",
    "- **Type** Type of the airport. Value \"airport\" for air terminals, \"station\" for train stations, \"port\" for ferry terminals and \"unknown\" if not known. In airports.csv, only type=airport is included.\n",
    "- **Source** Source of this data. \"OurAirports\" for data sourced from OurAirports, \"Legacy\" for old data not matched to OurAirports (mostly DAFIF), \"User\" for unverified user contributions. In airports.csv, only source=OurAirports is included."
   ]
  },
  {
   "cell_type": "code",
   "execution_count": 6,
   "metadata": {
    "collapsed": true
   },
   "outputs": [],
   "source": [
    "col_names_routes = [\"airline\", \"id_airline\", \"source_airport\", \n",
    "             \"id_source_airport\", \"destination_airport\",\n",
    "             \"id_destination_airport\", \"codeshare\",\n",
    "             \"stops\", \"equipment\"\n",
    "            ]\n",
    "\n",
    "col_names_airports = [\"id_airport\", \"name\", \"city\", \n",
    "             \"country\", \"IATA\", \"ICAO\", \"latitude\",\n",
    "             \"longitude\", \"altitude\", \"tz\", \"dst\", \"tz_db\",\n",
    "             \"type\", \"source\"\n",
    "            ]\n",
    "\n",
    "df = pd.read_table(os.path.join(path_data, \"routes.dat\"),\n",
    "                   sep=\",\", names=col_names_routes)\n",
    "\n",
    "df_airports = pd.read_table(os.path.join(path_data, \"airports.dat\"),\n",
    "                   sep=\",\", names=col_names_airports, index_col=0)"
   ]
  },
  {
   "cell_type": "code",
   "execution_count": 7,
   "metadata": {},
   "outputs": [
    {
     "data": {
      "text/html": [
       "<div>\n",
       "<style scoped>\n",
       "    .dataframe tbody tr th:only-of-type {\n",
       "        vertical-align: middle;\n",
       "    }\n",
       "\n",
       "    .dataframe tbody tr th {\n",
       "        vertical-align: top;\n",
       "    }\n",
       "\n",
       "    .dataframe thead th {\n",
       "        text-align: right;\n",
       "    }\n",
       "</style>\n",
       "<table border=\"1\" class=\"dataframe\">\n",
       "  <thead>\n",
       "    <tr style=\"text-align: right;\">\n",
       "      <th></th>\n",
       "      <th>airline</th>\n",
       "      <th>id_airline</th>\n",
       "      <th>source_airport</th>\n",
       "      <th>id_source_airport</th>\n",
       "      <th>destination_airport</th>\n",
       "      <th>id_destination_airport</th>\n",
       "      <th>codeshare</th>\n",
       "      <th>stops</th>\n",
       "      <th>equipment</th>\n",
       "    </tr>\n",
       "  </thead>\n",
       "  <tbody>\n",
       "    <tr>\n",
       "      <th>0</th>\n",
       "      <td>2B</td>\n",
       "      <td>410</td>\n",
       "      <td>AER</td>\n",
       "      <td>2965</td>\n",
       "      <td>KZN</td>\n",
       "      <td>2990</td>\n",
       "      <td>NaN</td>\n",
       "      <td>0</td>\n",
       "      <td>CR2</td>\n",
       "    </tr>\n",
       "    <tr>\n",
       "      <th>1</th>\n",
       "      <td>2B</td>\n",
       "      <td>410</td>\n",
       "      <td>ASF</td>\n",
       "      <td>2966</td>\n",
       "      <td>KZN</td>\n",
       "      <td>2990</td>\n",
       "      <td>NaN</td>\n",
       "      <td>0</td>\n",
       "      <td>CR2</td>\n",
       "    </tr>\n",
       "    <tr>\n",
       "      <th>2</th>\n",
       "      <td>2B</td>\n",
       "      <td>410</td>\n",
       "      <td>ASF</td>\n",
       "      <td>2966</td>\n",
       "      <td>MRV</td>\n",
       "      <td>2962</td>\n",
       "      <td>NaN</td>\n",
       "      <td>0</td>\n",
       "      <td>CR2</td>\n",
       "    </tr>\n",
       "    <tr>\n",
       "      <th>3</th>\n",
       "      <td>2B</td>\n",
       "      <td>410</td>\n",
       "      <td>CEK</td>\n",
       "      <td>2968</td>\n",
       "      <td>KZN</td>\n",
       "      <td>2990</td>\n",
       "      <td>NaN</td>\n",
       "      <td>0</td>\n",
       "      <td>CR2</td>\n",
       "    </tr>\n",
       "    <tr>\n",
       "      <th>4</th>\n",
       "      <td>2B</td>\n",
       "      <td>410</td>\n",
       "      <td>CEK</td>\n",
       "      <td>2968</td>\n",
       "      <td>OVB</td>\n",
       "      <td>4078</td>\n",
       "      <td>NaN</td>\n",
       "      <td>0</td>\n",
       "      <td>CR2</td>\n",
       "    </tr>\n",
       "  </tbody>\n",
       "</table>\n",
       "</div>"
      ],
      "text/plain": [
       "  airline id_airline source_airport id_source_airport destination_airport  \\\n",
       "0      2B        410            AER              2965                 KZN   \n",
       "1      2B        410            ASF              2966                 KZN   \n",
       "2      2B        410            ASF              2966                 MRV   \n",
       "3      2B        410            CEK              2968                 KZN   \n",
       "4      2B        410            CEK              2968                 OVB   \n",
       "\n",
       "  id_destination_airport codeshare  stops equipment  \n",
       "0                   2990       NaN      0       CR2  \n",
       "1                   2990       NaN      0       CR2  \n",
       "2                   2962       NaN      0       CR2  \n",
       "3                   2990       NaN      0       CR2  \n",
       "4                   4078       NaN      0       CR2  "
      ]
     },
     "execution_count": 7,
     "metadata": {},
     "output_type": "execute_result"
    }
   ],
   "source": [
    "df.head()"
   ]
  },
  {
   "cell_type": "code",
   "execution_count": 8,
   "metadata": {},
   "outputs": [
    {
     "data": {
      "text/html": [
       "<div>\n",
       "<style scoped>\n",
       "    .dataframe tbody tr th:only-of-type {\n",
       "        vertical-align: middle;\n",
       "    }\n",
       "\n",
       "    .dataframe tbody tr th {\n",
       "        vertical-align: top;\n",
       "    }\n",
       "\n",
       "    .dataframe thead th {\n",
       "        text-align: right;\n",
       "    }\n",
       "</style>\n",
       "<table border=\"1\" class=\"dataframe\">\n",
       "  <thead>\n",
       "    <tr style=\"text-align: right;\">\n",
       "      <th></th>\n",
       "      <th>name</th>\n",
       "      <th>city</th>\n",
       "      <th>country</th>\n",
       "      <th>IATA</th>\n",
       "      <th>ICAO</th>\n",
       "      <th>latitude</th>\n",
       "      <th>longitude</th>\n",
       "      <th>altitude</th>\n",
       "      <th>tz</th>\n",
       "      <th>dst</th>\n",
       "      <th>tz_db</th>\n",
       "      <th>type</th>\n",
       "      <th>source</th>\n",
       "    </tr>\n",
       "    <tr>\n",
       "      <th>id_airport</th>\n",
       "      <th></th>\n",
       "      <th></th>\n",
       "      <th></th>\n",
       "      <th></th>\n",
       "      <th></th>\n",
       "      <th></th>\n",
       "      <th></th>\n",
       "      <th></th>\n",
       "      <th></th>\n",
       "      <th></th>\n",
       "      <th></th>\n",
       "      <th></th>\n",
       "      <th></th>\n",
       "    </tr>\n",
       "  </thead>\n",
       "  <tbody>\n",
       "    <tr>\n",
       "      <th>1</th>\n",
       "      <td>Goroka Airport</td>\n",
       "      <td>Goroka</td>\n",
       "      <td>Papua New Guinea</td>\n",
       "      <td>GKA</td>\n",
       "      <td>AYGA</td>\n",
       "      <td>-6.081690</td>\n",
       "      <td>145.391998</td>\n",
       "      <td>5282</td>\n",
       "      <td>10</td>\n",
       "      <td>U</td>\n",
       "      <td>Pacific/Port_Moresby</td>\n",
       "      <td>airport</td>\n",
       "      <td>OurAirports</td>\n",
       "    </tr>\n",
       "    <tr>\n",
       "      <th>2</th>\n",
       "      <td>Madang Airport</td>\n",
       "      <td>Madang</td>\n",
       "      <td>Papua New Guinea</td>\n",
       "      <td>MAG</td>\n",
       "      <td>AYMD</td>\n",
       "      <td>-5.207080</td>\n",
       "      <td>145.789001</td>\n",
       "      <td>20</td>\n",
       "      <td>10</td>\n",
       "      <td>U</td>\n",
       "      <td>Pacific/Port_Moresby</td>\n",
       "      <td>airport</td>\n",
       "      <td>OurAirports</td>\n",
       "    </tr>\n",
       "    <tr>\n",
       "      <th>3</th>\n",
       "      <td>Mount Hagen Kagamuga Airport</td>\n",
       "      <td>Mount Hagen</td>\n",
       "      <td>Papua New Guinea</td>\n",
       "      <td>HGU</td>\n",
       "      <td>AYMH</td>\n",
       "      <td>-5.826790</td>\n",
       "      <td>144.296005</td>\n",
       "      <td>5388</td>\n",
       "      <td>10</td>\n",
       "      <td>U</td>\n",
       "      <td>Pacific/Port_Moresby</td>\n",
       "      <td>airport</td>\n",
       "      <td>OurAirports</td>\n",
       "    </tr>\n",
       "    <tr>\n",
       "      <th>4</th>\n",
       "      <td>Nadzab Airport</td>\n",
       "      <td>Nadzab</td>\n",
       "      <td>Papua New Guinea</td>\n",
       "      <td>LAE</td>\n",
       "      <td>AYNZ</td>\n",
       "      <td>-6.569803</td>\n",
       "      <td>146.725977</td>\n",
       "      <td>239</td>\n",
       "      <td>10</td>\n",
       "      <td>U</td>\n",
       "      <td>Pacific/Port_Moresby</td>\n",
       "      <td>airport</td>\n",
       "      <td>OurAirports</td>\n",
       "    </tr>\n",
       "    <tr>\n",
       "      <th>5</th>\n",
       "      <td>Port Moresby Jacksons International Airport</td>\n",
       "      <td>Port Moresby</td>\n",
       "      <td>Papua New Guinea</td>\n",
       "      <td>POM</td>\n",
       "      <td>AYPY</td>\n",
       "      <td>-9.443380</td>\n",
       "      <td>147.220001</td>\n",
       "      <td>146</td>\n",
       "      <td>10</td>\n",
       "      <td>U</td>\n",
       "      <td>Pacific/Port_Moresby</td>\n",
       "      <td>airport</td>\n",
       "      <td>OurAirports</td>\n",
       "    </tr>\n",
       "  </tbody>\n",
       "</table>\n",
       "</div>"
      ],
      "text/plain": [
       "                                                   name          city  \\\n",
       "id_airport                                                              \n",
       "1                                        Goroka Airport        Goroka   \n",
       "2                                        Madang Airport        Madang   \n",
       "3                          Mount Hagen Kagamuga Airport   Mount Hagen   \n",
       "4                                        Nadzab Airport        Nadzab   \n",
       "5           Port Moresby Jacksons International Airport  Port Moresby   \n",
       "\n",
       "                     country IATA  ICAO  latitude   longitude  altitude  tz  \\\n",
       "id_airport                                                                    \n",
       "1           Papua New Guinea  GKA  AYGA -6.081690  145.391998      5282  10   \n",
       "2           Papua New Guinea  MAG  AYMD -5.207080  145.789001        20  10   \n",
       "3           Papua New Guinea  HGU  AYMH -5.826790  144.296005      5388  10   \n",
       "4           Papua New Guinea  LAE  AYNZ -6.569803  146.725977       239  10   \n",
       "5           Papua New Guinea  POM  AYPY -9.443380  147.220001       146  10   \n",
       "\n",
       "           dst                 tz_db     type       source  \n",
       "id_airport                                                  \n",
       "1            U  Pacific/Port_Moresby  airport  OurAirports  \n",
       "2            U  Pacific/Port_Moresby  airport  OurAirports  \n",
       "3            U  Pacific/Port_Moresby  airport  OurAirports  \n",
       "4            U  Pacific/Port_Moresby  airport  OurAirports  \n",
       "5            U  Pacific/Port_Moresby  airport  OurAirports  "
      ]
     },
     "execution_count": 8,
     "metadata": {},
     "output_type": "execute_result"
    }
   ],
   "source": [
    "df_airports.head()"
   ]
  },
  {
   "cell_type": "markdown",
   "metadata": {},
   "source": [
    "## Preprocessing"
   ]
  },
  {
   "cell_type": "markdown",
   "metadata": {},
   "source": [
    "### Limiting the dataset to Europe"
   ]
  },
  {
   "cell_type": "markdown",
   "metadata": {},
   "source": [
    "- Take only the European airports"
   ]
  },
  {
   "cell_type": "code",
   "execution_count": 9,
   "metadata": {},
   "outputs": [
    {
     "data": {
      "text/html": [
       "<div>\n",
       "<style scoped>\n",
       "    .dataframe tbody tr th:only-of-type {\n",
       "        vertical-align: middle;\n",
       "    }\n",
       "\n",
       "    .dataframe tbody tr th {\n",
       "        vertical-align: top;\n",
       "    }\n",
       "\n",
       "    .dataframe thead th {\n",
       "        text-align: right;\n",
       "    }\n",
       "</style>\n",
       "<table border=\"1\" class=\"dataframe\">\n",
       "  <thead>\n",
       "    <tr style=\"text-align: right;\">\n",
       "      <th></th>\n",
       "      <th>name</th>\n",
       "      <th>city</th>\n",
       "      <th>country</th>\n",
       "      <th>IATA</th>\n",
       "      <th>ICAO</th>\n",
       "      <th>latitude</th>\n",
       "      <th>longitude</th>\n",
       "      <th>altitude</th>\n",
       "      <th>tz</th>\n",
       "      <th>dst</th>\n",
       "      <th>tz_db</th>\n",
       "      <th>type</th>\n",
       "      <th>source</th>\n",
       "    </tr>\n",
       "    <tr>\n",
       "      <th>id_airport</th>\n",
       "      <th></th>\n",
       "      <th></th>\n",
       "      <th></th>\n",
       "      <th></th>\n",
       "      <th></th>\n",
       "      <th></th>\n",
       "      <th></th>\n",
       "      <th></th>\n",
       "      <th></th>\n",
       "      <th></th>\n",
       "      <th></th>\n",
       "      <th></th>\n",
       "      <th></th>\n",
       "    </tr>\n",
       "  </thead>\n",
       "  <tbody>\n",
       "    <tr>\n",
       "      <th>11</th>\n",
       "      <td>Akureyri Airport</td>\n",
       "      <td>Akureyri</td>\n",
       "      <td>Iceland</td>\n",
       "      <td>AEY</td>\n",
       "      <td>BIAR</td>\n",
       "      <td>65.660004</td>\n",
       "      <td>-18.072701</td>\n",
       "      <td>6</td>\n",
       "      <td>0</td>\n",
       "      <td>N</td>\n",
       "      <td>Atlantic/Reykjavik</td>\n",
       "      <td>airport</td>\n",
       "      <td>OurAirports</td>\n",
       "    </tr>\n",
       "    <tr>\n",
       "      <th>12</th>\n",
       "      <td>Egilsstaðir Airport</td>\n",
       "      <td>Egilsstadir</td>\n",
       "      <td>Iceland</td>\n",
       "      <td>EGS</td>\n",
       "      <td>BIEG</td>\n",
       "      <td>65.283302</td>\n",
       "      <td>-14.401400</td>\n",
       "      <td>76</td>\n",
       "      <td>0</td>\n",
       "      <td>N</td>\n",
       "      <td>Atlantic/Reykjavik</td>\n",
       "      <td>airport</td>\n",
       "      <td>OurAirports</td>\n",
       "    </tr>\n",
       "    <tr>\n",
       "      <th>13</th>\n",
       "      <td>Hornafjörður Airport</td>\n",
       "      <td>Hofn</td>\n",
       "      <td>Iceland</td>\n",
       "      <td>HFN</td>\n",
       "      <td>BIHN</td>\n",
       "      <td>64.295601</td>\n",
       "      <td>-15.227200</td>\n",
       "      <td>24</td>\n",
       "      <td>0</td>\n",
       "      <td>N</td>\n",
       "      <td>Atlantic/Reykjavik</td>\n",
       "      <td>airport</td>\n",
       "      <td>OurAirports</td>\n",
       "    </tr>\n",
       "    <tr>\n",
       "      <th>14</th>\n",
       "      <td>Húsavík Airport</td>\n",
       "      <td>Husavik</td>\n",
       "      <td>Iceland</td>\n",
       "      <td>HZK</td>\n",
       "      <td>BIHU</td>\n",
       "      <td>65.952301</td>\n",
       "      <td>-17.426001</td>\n",
       "      <td>48</td>\n",
       "      <td>0</td>\n",
       "      <td>N</td>\n",
       "      <td>Atlantic/Reykjavik</td>\n",
       "      <td>airport</td>\n",
       "      <td>OurAirports</td>\n",
       "    </tr>\n",
       "    <tr>\n",
       "      <th>15</th>\n",
       "      <td>Ísafjörður Airport</td>\n",
       "      <td>Isafjordur</td>\n",
       "      <td>Iceland</td>\n",
       "      <td>IFJ</td>\n",
       "      <td>BIIS</td>\n",
       "      <td>66.058098</td>\n",
       "      <td>-23.135300</td>\n",
       "      <td>8</td>\n",
       "      <td>0</td>\n",
       "      <td>N</td>\n",
       "      <td>Atlantic/Reykjavik</td>\n",
       "      <td>airport</td>\n",
       "      <td>OurAirports</td>\n",
       "    </tr>\n",
       "  </tbody>\n",
       "</table>\n",
       "</div>"
      ],
      "text/plain": [
       "                            name         city  country IATA  ICAO   latitude  \\\n",
       "id_airport                                                                     \n",
       "11              Akureyri Airport     Akureyri  Iceland  AEY  BIAR  65.660004   \n",
       "12           Egilsstaðir Airport  Egilsstadir  Iceland  EGS  BIEG  65.283302   \n",
       "13          Hornafjörður Airport         Hofn  Iceland  HFN  BIHN  64.295601   \n",
       "14               Húsavík Airport      Husavik  Iceland  HZK  BIHU  65.952301   \n",
       "15            Ísafjörður Airport   Isafjordur  Iceland  IFJ  BIIS  66.058098   \n",
       "\n",
       "            longitude  altitude tz dst               tz_db     type  \\\n",
       "id_airport                                                            \n",
       "11         -18.072701         6  0   N  Atlantic/Reykjavik  airport   \n",
       "12         -14.401400        76  0   N  Atlantic/Reykjavik  airport   \n",
       "13         -15.227200        24  0   N  Atlantic/Reykjavik  airport   \n",
       "14         -17.426001        48  0   N  Atlantic/Reykjavik  airport   \n",
       "15         -23.135300         8  0   N  Atlantic/Reykjavik  airport   \n",
       "\n",
       "                 source  \n",
       "id_airport               \n",
       "11          OurAirports  \n",
       "12          OurAirports  \n",
       "13          OurAirports  \n",
       "14          OurAirports  \n",
       "15          OurAirports  "
      ]
     },
     "execution_count": 9,
     "metadata": {},
     "output_type": "execute_result"
    }
   ],
   "source": [
    "countries_eur = [\"Albania\", \"Andorra\", \"Armenia\", \"Austria\", \"Azerbaijan\", \"Belarus\", \n",
    "                 \"Belgium\", \"Bosnia and Herzegovina\", \"Bulgaria\", \"Croatia\", \"Cyprus\", \n",
    "                 \"Czech Republic\", \"Denmark\", \"Estonia\", \"Finland\", \"France\", \"Georgia\", \n",
    "                 \"Germany\", \"Greece\", \"Hungary\", \"Iceland\", \"Ireland\", \"Italy\", \n",
    "                 \"Kazakhstan\", \"Kosovo\", \"Latvia\", \"Liechtenstein\", \"Lithuania\", \n",
    "                 \"Luxembourg\", \"Macedonia\", \"Malta\", \"Moldova\", \"Monaco\", \"Montenegro\", \n",
    "                 \"Netherlands\", \"Norway\", \"Poland\", \"Portugal\", \"Romania\", \n",
    "                 \"Russia\", \"San Marino\", \"Serbia\", \"Slovakia\", \"Slovenia\", \n",
    "                 \"Spain\", \"Sweden\", \"Switzerland\", \"Turkey\", \"Ukraine\", \"United Kingdom\"]\n",
    "\n",
    "df_airports_eur = df_airports[df_airports[\"country\"].isin(countries_eur)]\n",
    "df_airports_eur.head()"
   ]
  },
  {
   "cell_type": "markdown",
   "metadata": {},
   "source": [
    "- Take only the routes intra Europe"
   ]
  },
  {
   "cell_type": "code",
   "execution_count": 10,
   "metadata": {},
   "outputs": [
    {
     "name": "stdout",
     "output_type": "stream",
     "text": [
      "There are 1071 airports in Europe\n"
     ]
    }
   ],
   "source": [
    "airports_eur = list(df_airports_eur['IATA'].unique())\n",
    "df_eur = df[(df['source_airport'].isin(airports_eur)) & (df['destination_airport'].isin(airports_eur))]\n",
    "df_eur.head()\n",
    "print(\"There are {} airports in Europe\".format(len(airports_eur)))"
   ]
  },
  {
   "cell_type": "markdown",
   "metadata": {},
   "source": [
    "### Handling missing values\n",
    "The dataset provider indicates that *\"the special value \\N is used for \"NULL\" to indicate that no value is available\".* We decided to delete the airports for which no id is linked."
   ]
  },
  {
   "cell_type": "code",
   "execution_count": 11,
   "metadata": {},
   "outputs": [
    {
     "name": "stdout",
     "output_type": "stream",
     "text": [
      "#Missing Source IDs: 0\n",
      "#Missing Source IDs: 0\n"
     ]
    }
   ],
   "source": [
    "# Counting the number of missing id source airports and missing id destination airports\n",
    "print(\"#Missing Source IDs: {}\".format(len(df_eur[df_eur.id_source_airport == \"\\\\N\"])))\n",
    "print(\"#Missing Source IDs: {}\".format(len(df_eur[df_eur.id_destination_airport == \"\\\\N\"])))"
   ]
  },
  {
   "cell_type": "markdown",
   "metadata": {},
   "source": [
    "### Handling duplicate lines"
   ]
  },
  {
   "cell_type": "markdown",
   "metadata": {},
   "source": [
    "As we do not consider airlines or equipments, we delete duplicate lines (i.e. with same id_source_airport AND id_source_airport)."
   ]
  },
  {
   "cell_type": "code",
   "execution_count": 12,
   "metadata": {},
   "outputs": [
    {
     "data": {
      "text/html": [
       "<div>\n",
       "<style scoped>\n",
       "    .dataframe tbody tr th:only-of-type {\n",
       "        vertical-align: middle;\n",
       "    }\n",
       "\n",
       "    .dataframe tbody tr th {\n",
       "        vertical-align: top;\n",
       "    }\n",
       "\n",
       "    .dataframe thead th {\n",
       "        text-align: right;\n",
       "    }\n",
       "</style>\n",
       "<table border=\"1\" class=\"dataframe\">\n",
       "  <thead>\n",
       "    <tr style=\"text-align: right;\">\n",
       "      <th></th>\n",
       "      <th></th>\n",
       "      <th>airline</th>\n",
       "      <th>id_airline</th>\n",
       "      <th>source_airport</th>\n",
       "      <th>destination_airport</th>\n",
       "      <th>codeshare</th>\n",
       "      <th>stops</th>\n",
       "      <th>equipment</th>\n",
       "    </tr>\n",
       "    <tr>\n",
       "      <th>id_source_airport</th>\n",
       "      <th>id_destination_airport</th>\n",
       "      <th></th>\n",
       "      <th></th>\n",
       "      <th></th>\n",
       "      <th></th>\n",
       "      <th></th>\n",
       "      <th></th>\n",
       "      <th></th>\n",
       "    </tr>\n",
       "  </thead>\n",
       "  <tbody>\n",
       "    <tr>\n",
       "      <th rowspan=\"30\" valign=\"top\">1051</th>\n",
       "      <th>1054</th>\n",
       "      <td>2</td>\n",
       "      <td>2</td>\n",
       "      <td>2</td>\n",
       "      <td>2</td>\n",
       "      <td>0</td>\n",
       "      <td>2</td>\n",
       "      <td>2</td>\n",
       "    </tr>\n",
       "    <tr>\n",
       "      <th>1055</th>\n",
       "      <td>1</td>\n",
       "      <td>1</td>\n",
       "      <td>1</td>\n",
       "      <td>1</td>\n",
       "      <td>0</td>\n",
       "      <td>1</td>\n",
       "      <td>1</td>\n",
       "    </tr>\n",
       "    <tr>\n",
       "      <th>1056</th>\n",
       "      <td>2</td>\n",
       "      <td>2</td>\n",
       "      <td>2</td>\n",
       "      <td>2</td>\n",
       "      <td>0</td>\n",
       "      <td>2</td>\n",
       "      <td>2</td>\n",
       "    </tr>\n",
       "    <tr>\n",
       "      <th>1057</th>\n",
       "      <td>1</td>\n",
       "      <td>1</td>\n",
       "      <td>1</td>\n",
       "      <td>1</td>\n",
       "      <td>0</td>\n",
       "      <td>1</td>\n",
       "      <td>1</td>\n",
       "    </tr>\n",
       "    <tr>\n",
       "      <th>1216</th>\n",
       "      <td>2</td>\n",
       "      <td>2</td>\n",
       "      <td>2</td>\n",
       "      <td>2</td>\n",
       "      <td>1</td>\n",
       "      <td>2</td>\n",
       "      <td>2</td>\n",
       "    </tr>\n",
       "    <tr>\n",
       "      <th>1218</th>\n",
       "      <td>3</td>\n",
       "      <td>3</td>\n",
       "      <td>3</td>\n",
       "      <td>3</td>\n",
       "      <td>1</td>\n",
       "      <td>3</td>\n",
       "      <td>3</td>\n",
       "    </tr>\n",
       "    <tr>\n",
       "      <th>1229</th>\n",
       "      <td>3</td>\n",
       "      <td>3</td>\n",
       "      <td>3</td>\n",
       "      <td>3</td>\n",
       "      <td>1</td>\n",
       "      <td>3</td>\n",
       "      <td>3</td>\n",
       "    </tr>\n",
       "    <tr>\n",
       "      <th>1418</th>\n",
       "      <td>1</td>\n",
       "      <td>1</td>\n",
       "      <td>1</td>\n",
       "      <td>1</td>\n",
       "      <td>0</td>\n",
       "      <td>1</td>\n",
       "      <td>1</td>\n",
       "    </tr>\n",
       "    <tr>\n",
       "      <th>1423</th>\n",
       "      <td>2</td>\n",
       "      <td>2</td>\n",
       "      <td>2</td>\n",
       "      <td>2</td>\n",
       "      <td>0</td>\n",
       "      <td>2</td>\n",
       "      <td>2</td>\n",
       "    </tr>\n",
       "    <tr>\n",
       "      <th>1524</th>\n",
       "      <td>1</td>\n",
       "      <td>1</td>\n",
       "      <td>1</td>\n",
       "      <td>1</td>\n",
       "      <td>0</td>\n",
       "      <td>1</td>\n",
       "      <td>1</td>\n",
       "    </tr>\n",
       "    <tr>\n",
       "      <th>1525</th>\n",
       "      <td>1</td>\n",
       "      <td>1</td>\n",
       "      <td>1</td>\n",
       "      <td>1</td>\n",
       "      <td>0</td>\n",
       "      <td>1</td>\n",
       "      <td>1</td>\n",
       "    </tr>\n",
       "    <tr>\n",
       "      <th>1550</th>\n",
       "      <td>1</td>\n",
       "      <td>1</td>\n",
       "      <td>1</td>\n",
       "      <td>1</td>\n",
       "      <td>0</td>\n",
       "      <td>1</td>\n",
       "      <td>1</td>\n",
       "    </tr>\n",
       "    <tr>\n",
       "      <th>1555</th>\n",
       "      <td>1</td>\n",
       "      <td>1</td>\n",
       "      <td>1</td>\n",
       "      <td>1</td>\n",
       "      <td>0</td>\n",
       "      <td>1</td>\n",
       "      <td>1</td>\n",
       "    </tr>\n",
       "    <tr>\n",
       "      <th>1562</th>\n",
       "      <td>1</td>\n",
       "      <td>1</td>\n",
       "      <td>1</td>\n",
       "      <td>1</td>\n",
       "      <td>0</td>\n",
       "      <td>1</td>\n",
       "      <td>1</td>\n",
       "    </tr>\n",
       "    <tr>\n",
       "      <th>1612</th>\n",
       "      <td>2</td>\n",
       "      <td>2</td>\n",
       "      <td>2</td>\n",
       "      <td>2</td>\n",
       "      <td>0</td>\n",
       "      <td>2</td>\n",
       "      <td>2</td>\n",
       "    </tr>\n",
       "    <tr>\n",
       "      <th>1613</th>\n",
       "      <td>2</td>\n",
       "      <td>2</td>\n",
       "      <td>2</td>\n",
       "      <td>2</td>\n",
       "      <td>0</td>\n",
       "      <td>2</td>\n",
       "      <td>2</td>\n",
       "    </tr>\n",
       "    <tr>\n",
       "      <th>1678</th>\n",
       "      <td>2</td>\n",
       "      <td>2</td>\n",
       "      <td>2</td>\n",
       "      <td>2</td>\n",
       "      <td>1</td>\n",
       "      <td>2</td>\n",
       "      <td>2</td>\n",
       "    </tr>\n",
       "    <tr>\n",
       "      <th>302</th>\n",
       "      <td>1</td>\n",
       "      <td>1</td>\n",
       "      <td>1</td>\n",
       "      <td>1</td>\n",
       "      <td>0</td>\n",
       "      <td>1</td>\n",
       "      <td>1</td>\n",
       "    </tr>\n",
       "    <tr>\n",
       "      <th>304</th>\n",
       "      <td>1</td>\n",
       "      <td>1</td>\n",
       "      <td>1</td>\n",
       "      <td>1</td>\n",
       "      <td>0</td>\n",
       "      <td>1</td>\n",
       "      <td>1</td>\n",
       "    </tr>\n",
       "    <tr>\n",
       "      <th>337</th>\n",
       "      <td>1</td>\n",
       "      <td>1</td>\n",
       "      <td>1</td>\n",
       "      <td>1</td>\n",
       "      <td>0</td>\n",
       "      <td>1</td>\n",
       "      <td>1</td>\n",
       "    </tr>\n",
       "    <tr>\n",
       "      <th>339</th>\n",
       "      <td>1</td>\n",
       "      <td>1</td>\n",
       "      <td>1</td>\n",
       "      <td>1</td>\n",
       "      <td>0</td>\n",
       "      <td>1</td>\n",
       "      <td>1</td>\n",
       "    </tr>\n",
       "    <tr>\n",
       "      <th>340</th>\n",
       "      <td>2</td>\n",
       "      <td>2</td>\n",
       "      <td>2</td>\n",
       "      <td>2</td>\n",
       "      <td>0</td>\n",
       "      <td>2</td>\n",
       "      <td>2</td>\n",
       "    </tr>\n",
       "    <tr>\n",
       "      <th>342</th>\n",
       "      <td>2</td>\n",
       "      <td>2</td>\n",
       "      <td>2</td>\n",
       "      <td>2</td>\n",
       "      <td>0</td>\n",
       "      <td>2</td>\n",
       "      <td>2</td>\n",
       "    </tr>\n",
       "    <tr>\n",
       "      <th>344</th>\n",
       "      <td>2</td>\n",
       "      <td>2</td>\n",
       "      <td>2</td>\n",
       "      <td>2</td>\n",
       "      <td>0</td>\n",
       "      <td>2</td>\n",
       "      <td>2</td>\n",
       "    </tr>\n",
       "    <tr>\n",
       "      <th>345</th>\n",
       "      <td>3</td>\n",
       "      <td>3</td>\n",
       "      <td>3</td>\n",
       "      <td>3</td>\n",
       "      <td>0</td>\n",
       "      <td>3</td>\n",
       "      <td>3</td>\n",
       "    </tr>\n",
       "    <tr>\n",
       "      <th>346</th>\n",
       "      <td>3</td>\n",
       "      <td>3</td>\n",
       "      <td>3</td>\n",
       "      <td>3</td>\n",
       "      <td>0</td>\n",
       "      <td>3</td>\n",
       "      <td>3</td>\n",
       "    </tr>\n",
       "    <tr>\n",
       "      <th>347</th>\n",
       "      <td>1</td>\n",
       "      <td>1</td>\n",
       "      <td>1</td>\n",
       "      <td>1</td>\n",
       "      <td>0</td>\n",
       "      <td>1</td>\n",
       "      <td>1</td>\n",
       "    </tr>\n",
       "    <tr>\n",
       "      <th>348</th>\n",
       "      <td>2</td>\n",
       "      <td>2</td>\n",
       "      <td>2</td>\n",
       "      <td>2</td>\n",
       "      <td>0</td>\n",
       "      <td>2</td>\n",
       "      <td>2</td>\n",
       "    </tr>\n",
       "    <tr>\n",
       "      <th>350</th>\n",
       "      <td>2</td>\n",
       "      <td>2</td>\n",
       "      <td>2</td>\n",
       "      <td>2</td>\n",
       "      <td>0</td>\n",
       "      <td>2</td>\n",
       "      <td>2</td>\n",
       "    </tr>\n",
       "    <tr>\n",
       "      <th>351</th>\n",
       "      <td>1</td>\n",
       "      <td>1</td>\n",
       "      <td>1</td>\n",
       "      <td>1</td>\n",
       "      <td>0</td>\n",
       "      <td>1</td>\n",
       "      <td>1</td>\n",
       "    </tr>\n",
       "    <tr>\n",
       "      <th>...</th>\n",
       "      <th>...</th>\n",
       "      <td>...</td>\n",
       "      <td>...</td>\n",
       "      <td>...</td>\n",
       "      <td>...</td>\n",
       "      <td>...</td>\n",
       "      <td>...</td>\n",
       "      <td>...</td>\n",
       "    </tr>\n",
       "    <tr>\n",
       "      <th rowspan=\"4\" valign=\"top\">8414</th>\n",
       "      <th>657</th>\n",
       "      <td>1</td>\n",
       "      <td>1</td>\n",
       "      <td>1</td>\n",
       "      <td>1</td>\n",
       "      <td>0</td>\n",
       "      <td>1</td>\n",
       "      <td>1</td>\n",
       "    </tr>\n",
       "    <tr>\n",
       "      <th>668</th>\n",
       "      <td>1</td>\n",
       "      <td>1</td>\n",
       "      <td>1</td>\n",
       "      <td>1</td>\n",
       "      <td>0</td>\n",
       "      <td>1</td>\n",
       "      <td>1</td>\n",
       "    </tr>\n",
       "    <tr>\n",
       "      <th>680</th>\n",
       "      <td>1</td>\n",
       "      <td>1</td>\n",
       "      <td>1</td>\n",
       "      <td>1</td>\n",
       "      <td>0</td>\n",
       "      <td>1</td>\n",
       "      <td>1</td>\n",
       "    </tr>\n",
       "    <tr>\n",
       "      <th>699</th>\n",
       "      <td>1</td>\n",
       "      <td>1</td>\n",
       "      <td>1</td>\n",
       "      <td>1</td>\n",
       "      <td>0</td>\n",
       "      <td>1</td>\n",
       "      <td>1</td>\n",
       "    </tr>\n",
       "    <tr>\n",
       "      <th rowspan=\"4\" valign=\"top\">8428</th>\n",
       "      <th>2975</th>\n",
       "      <td>1</td>\n",
       "      <td>1</td>\n",
       "      <td>1</td>\n",
       "      <td>1</td>\n",
       "      <td>0</td>\n",
       "      <td>1</td>\n",
       "      <td>1</td>\n",
       "    </tr>\n",
       "    <tr>\n",
       "      <th>2988</th>\n",
       "      <td>1</td>\n",
       "      <td>1</td>\n",
       "      <td>1</td>\n",
       "      <td>1</td>\n",
       "      <td>0</td>\n",
       "      <td>1</td>\n",
       "      <td>1</td>\n",
       "    </tr>\n",
       "    <tr>\n",
       "      <th>6139</th>\n",
       "      <td>1</td>\n",
       "      <td>1</td>\n",
       "      <td>1</td>\n",
       "      <td>1</td>\n",
       "      <td>0</td>\n",
       "      <td>1</td>\n",
       "      <td>1</td>\n",
       "    </tr>\n",
       "    <tr>\n",
       "      <th>6140</th>\n",
       "      <td>1</td>\n",
       "      <td>1</td>\n",
       "      <td>1</td>\n",
       "      <td>1</td>\n",
       "      <td>0</td>\n",
       "      <td>1</td>\n",
       "      <td>1</td>\n",
       "    </tr>\n",
       "    <tr>\n",
       "      <th>8740</th>\n",
       "      <th>4029</th>\n",
       "      <td>1</td>\n",
       "      <td>1</td>\n",
       "      <td>1</td>\n",
       "      <td>1</td>\n",
       "      <td>0</td>\n",
       "      <td>1</td>\n",
       "      <td>1</td>\n",
       "    </tr>\n",
       "    <tr>\n",
       "      <th rowspan=\"2\" valign=\"top\">8774</th>\n",
       "      <th>2948</th>\n",
       "      <td>1</td>\n",
       "      <td>1</td>\n",
       "      <td>1</td>\n",
       "      <td>1</td>\n",
       "      <td>0</td>\n",
       "      <td>1</td>\n",
       "      <td>1</td>\n",
       "    </tr>\n",
       "    <tr>\n",
       "      <th>4029</th>\n",
       "      <td>1</td>\n",
       "      <td>1</td>\n",
       "      <td>1</td>\n",
       "      <td>1</td>\n",
       "      <td>0</td>\n",
       "      <td>1</td>\n",
       "      <td>1</td>\n",
       "    </tr>\n",
       "    <tr>\n",
       "      <th>8775</th>\n",
       "      <th>4029</th>\n",
       "      <td>1</td>\n",
       "      <td>1</td>\n",
       "      <td>1</td>\n",
       "      <td>1</td>\n",
       "      <td>0</td>\n",
       "      <td>1</td>\n",
       "      <td>1</td>\n",
       "    </tr>\n",
       "    <tr>\n",
       "      <th>8782</th>\n",
       "      <th>2933</th>\n",
       "      <td>1</td>\n",
       "      <td>1</td>\n",
       "      <td>1</td>\n",
       "      <td>1</td>\n",
       "      <td>0</td>\n",
       "      <td>1</td>\n",
       "      <td>1</td>\n",
       "    </tr>\n",
       "    <tr>\n",
       "      <th>8944</th>\n",
       "      <th>2937</th>\n",
       "      <td>2</td>\n",
       "      <td>2</td>\n",
       "      <td>2</td>\n",
       "      <td>2</td>\n",
       "      <td>0</td>\n",
       "      <td>2</td>\n",
       "      <td>2</td>\n",
       "    </tr>\n",
       "    <tr>\n",
       "      <th rowspan=\"2\" valign=\"top\">9026</th>\n",
       "      <th>2923</th>\n",
       "      <td>3</td>\n",
       "      <td>3</td>\n",
       "      <td>3</td>\n",
       "      <td>3</td>\n",
       "      <td>0</td>\n",
       "      <td>3</td>\n",
       "      <td>3</td>\n",
       "    </tr>\n",
       "    <tr>\n",
       "      <th>2937</th>\n",
       "      <td>3</td>\n",
       "      <td>3</td>\n",
       "      <td>3</td>\n",
       "      <td>3</td>\n",
       "      <td>0</td>\n",
       "      <td>3</td>\n",
       "      <td>3</td>\n",
       "    </tr>\n",
       "    <tr>\n",
       "      <th rowspan=\"4\" valign=\"top\">9044</th>\n",
       "      <th>1682</th>\n",
       "      <td>1</td>\n",
       "      <td>1</td>\n",
       "      <td>1</td>\n",
       "      <td>1</td>\n",
       "      <td>1</td>\n",
       "      <td>1</td>\n",
       "      <td>1</td>\n",
       "    </tr>\n",
       "    <tr>\n",
       "      <th>1701</th>\n",
       "      <td>2</td>\n",
       "      <td>2</td>\n",
       "      <td>2</td>\n",
       "      <td>2</td>\n",
       "      <td>0</td>\n",
       "      <td>2</td>\n",
       "      <td>2</td>\n",
       "    </tr>\n",
       "    <tr>\n",
       "      <th>1706</th>\n",
       "      <td>1</td>\n",
       "      <td>1</td>\n",
       "      <td>1</td>\n",
       "      <td>1</td>\n",
       "      <td>0</td>\n",
       "      <td>1</td>\n",
       "      <td>1</td>\n",
       "    </tr>\n",
       "    <tr>\n",
       "      <th>4317</th>\n",
       "      <td>1</td>\n",
       "      <td>1</td>\n",
       "      <td>1</td>\n",
       "      <td>1</td>\n",
       "      <td>0</td>\n",
       "      <td>1</td>\n",
       "      <td>1</td>\n",
       "    </tr>\n",
       "    <tr>\n",
       "      <th>9045</th>\n",
       "      <th>1701</th>\n",
       "      <td>1</td>\n",
       "      <td>1</td>\n",
       "      <td>1</td>\n",
       "      <td>1</td>\n",
       "      <td>0</td>\n",
       "      <td>1</td>\n",
       "      <td>1</td>\n",
       "    </tr>\n",
       "    <tr>\n",
       "      <th>9273</th>\n",
       "      <th>1701</th>\n",
       "      <td>1</td>\n",
       "      <td>1</td>\n",
       "      <td>1</td>\n",
       "      <td>1</td>\n",
       "      <td>0</td>\n",
       "      <td>1</td>\n",
       "      <td>1</td>\n",
       "    </tr>\n",
       "    <tr>\n",
       "      <th rowspan=\"8\" valign=\"top\">9327</th>\n",
       "      <th>1529</th>\n",
       "      <td>1</td>\n",
       "      <td>1</td>\n",
       "      <td>1</td>\n",
       "      <td>1</td>\n",
       "      <td>0</td>\n",
       "      <td>1</td>\n",
       "      <td>1</td>\n",
       "    </tr>\n",
       "    <tr>\n",
       "      <th>1553</th>\n",
       "      <td>1</td>\n",
       "      <td>1</td>\n",
       "      <td>1</td>\n",
       "      <td>1</td>\n",
       "      <td>0</td>\n",
       "      <td>1</td>\n",
       "      <td>1</td>\n",
       "    </tr>\n",
       "    <tr>\n",
       "      <th>1562</th>\n",
       "      <td>1</td>\n",
       "      <td>1</td>\n",
       "      <td>1</td>\n",
       "      <td>1</td>\n",
       "      <td>0</td>\n",
       "      <td>1</td>\n",
       "      <td>1</td>\n",
       "    </tr>\n",
       "    <tr>\n",
       "      <th>304</th>\n",
       "      <td>1</td>\n",
       "      <td>1</td>\n",
       "      <td>1</td>\n",
       "      <td>1</td>\n",
       "      <td>0</td>\n",
       "      <td>1</td>\n",
       "      <td>1</td>\n",
       "    </tr>\n",
       "    <tr>\n",
       "      <th>355</th>\n",
       "      <td>1</td>\n",
       "      <td>1</td>\n",
       "      <td>1</td>\n",
       "      <td>1</td>\n",
       "      <td>0</td>\n",
       "      <td>1</td>\n",
       "      <td>1</td>\n",
       "    </tr>\n",
       "    <tr>\n",
       "      <th>3956</th>\n",
       "      <td>1</td>\n",
       "      <td>1</td>\n",
       "      <td>1</td>\n",
       "      <td>1</td>\n",
       "      <td>0</td>\n",
       "      <td>1</td>\n",
       "      <td>1</td>\n",
       "    </tr>\n",
       "    <tr>\n",
       "      <th>548</th>\n",
       "      <td>1</td>\n",
       "      <td>1</td>\n",
       "      <td>1</td>\n",
       "      <td>1</td>\n",
       "      <td>0</td>\n",
       "      <td>1</td>\n",
       "      <td>1</td>\n",
       "    </tr>\n",
       "    <tr>\n",
       "      <th>599</th>\n",
       "      <td>1</td>\n",
       "      <td>1</td>\n",
       "      <td>1</td>\n",
       "      <td>1</td>\n",
       "      <td>0</td>\n",
       "      <td>1</td>\n",
       "      <td>1</td>\n",
       "    </tr>\n",
       "  </tbody>\n",
       "</table>\n",
       "<p>11835 rows × 7 columns</p>\n",
       "</div>"
      ],
      "text/plain": [
       "                                          airline  id_airline  source_airport  \\\n",
       "id_source_airport id_destination_airport                                        \n",
       "1051              1054                          2           2               2   \n",
       "                  1055                          1           1               1   \n",
       "                  1056                          2           2               2   \n",
       "                  1057                          1           1               1   \n",
       "                  1216                          2           2               2   \n",
       "                  1218                          3           3               3   \n",
       "                  1229                          3           3               3   \n",
       "                  1418                          1           1               1   \n",
       "                  1423                          2           2               2   \n",
       "                  1524                          1           1               1   \n",
       "                  1525                          1           1               1   \n",
       "                  1550                          1           1               1   \n",
       "                  1555                          1           1               1   \n",
       "                  1562                          1           1               1   \n",
       "                  1612                          2           2               2   \n",
       "                  1613                          2           2               2   \n",
       "                  1678                          2           2               2   \n",
       "                  302                           1           1               1   \n",
       "                  304                           1           1               1   \n",
       "                  337                           1           1               1   \n",
       "                  339                           1           1               1   \n",
       "                  340                           2           2               2   \n",
       "                  342                           2           2               2   \n",
       "                  344                           2           2               2   \n",
       "                  345                           3           3               3   \n",
       "                  346                           3           3               3   \n",
       "                  347                           1           1               1   \n",
       "                  348                           2           2               2   \n",
       "                  350                           2           2               2   \n",
       "                  351                           1           1               1   \n",
       "...                                           ...         ...             ...   \n",
       "8414              657                           1           1               1   \n",
       "                  668                           1           1               1   \n",
       "                  680                           1           1               1   \n",
       "                  699                           1           1               1   \n",
       "8428              2975                          1           1               1   \n",
       "                  2988                          1           1               1   \n",
       "                  6139                          1           1               1   \n",
       "                  6140                          1           1               1   \n",
       "8740              4029                          1           1               1   \n",
       "8774              2948                          1           1               1   \n",
       "                  4029                          1           1               1   \n",
       "8775              4029                          1           1               1   \n",
       "8782              2933                          1           1               1   \n",
       "8944              2937                          2           2               2   \n",
       "9026              2923                          3           3               3   \n",
       "                  2937                          3           3               3   \n",
       "9044              1682                          1           1               1   \n",
       "                  1701                          2           2               2   \n",
       "                  1706                          1           1               1   \n",
       "                  4317                          1           1               1   \n",
       "9045              1701                          1           1               1   \n",
       "9273              1701                          1           1               1   \n",
       "9327              1529                          1           1               1   \n",
       "                  1553                          1           1               1   \n",
       "                  1562                          1           1               1   \n",
       "                  304                           1           1               1   \n",
       "                  355                           1           1               1   \n",
       "                  3956                          1           1               1   \n",
       "                  548                           1           1               1   \n",
       "                  599                           1           1               1   \n",
       "\n",
       "                                          destination_airport  codeshare  \\\n",
       "id_source_airport id_destination_airport                                   \n",
       "1051              1054                                      2          0   \n",
       "                  1055                                      1          0   \n",
       "                  1056                                      2          0   \n",
       "                  1057                                      1          0   \n",
       "                  1216                                      2          1   \n",
       "                  1218                                      3          1   \n",
       "                  1229                                      3          1   \n",
       "                  1418                                      1          0   \n",
       "                  1423                                      2          0   \n",
       "                  1524                                      1          0   \n",
       "                  1525                                      1          0   \n",
       "                  1550                                      1          0   \n",
       "                  1555                                      1          0   \n",
       "                  1562                                      1          0   \n",
       "                  1612                                      2          0   \n",
       "                  1613                                      2          0   \n",
       "                  1678                                      2          1   \n",
       "                  302                                       1          0   \n",
       "                  304                                       1          0   \n",
       "                  337                                       1          0   \n",
       "                  339                                       1          0   \n",
       "                  340                                       2          0   \n",
       "                  342                                       2          0   \n",
       "                  344                                       2          0   \n",
       "                  345                                       3          0   \n",
       "                  346                                       3          0   \n",
       "                  347                                       1          0   \n",
       "                  348                                       2          0   \n",
       "                  350                                       2          0   \n",
       "                  351                                       1          0   \n",
       "...                                                       ...        ...   \n",
       "8414              657                                       1          0   \n",
       "                  668                                       1          0   \n",
       "                  680                                       1          0   \n",
       "                  699                                       1          0   \n",
       "8428              2975                                      1          0   \n",
       "                  2988                                      1          0   \n",
       "                  6139                                      1          0   \n",
       "                  6140                                      1          0   \n",
       "8740              4029                                      1          0   \n",
       "8774              2948                                      1          0   \n",
       "                  4029                                      1          0   \n",
       "8775              4029                                      1          0   \n",
       "8782              2933                                      1          0   \n",
       "8944              2937                                      2          0   \n",
       "9026              2923                                      3          0   \n",
       "                  2937                                      3          0   \n",
       "9044              1682                                      1          1   \n",
       "                  1701                                      2          0   \n",
       "                  1706                                      1          0   \n",
       "                  4317                                      1          0   \n",
       "9045              1701                                      1          0   \n",
       "9273              1701                                      1          0   \n",
       "9327              1529                                      1          0   \n",
       "                  1553                                      1          0   \n",
       "                  1562                                      1          0   \n",
       "                  304                                       1          0   \n",
       "                  355                                       1          0   \n",
       "                  3956                                      1          0   \n",
       "                  548                                       1          0   \n",
       "                  599                                       1          0   \n",
       "\n",
       "                                          stops  equipment  \n",
       "id_source_airport id_destination_airport                    \n",
       "1051              1054                        2          2  \n",
       "                  1055                        1          1  \n",
       "                  1056                        2          2  \n",
       "                  1057                        1          1  \n",
       "                  1216                        2          2  \n",
       "                  1218                        3          3  \n",
       "                  1229                        3          3  \n",
       "                  1418                        1          1  \n",
       "                  1423                        2          2  \n",
       "                  1524                        1          1  \n",
       "                  1525                        1          1  \n",
       "                  1550                        1          1  \n",
       "                  1555                        1          1  \n",
       "                  1562                        1          1  \n",
       "                  1612                        2          2  \n",
       "                  1613                        2          2  \n",
       "                  1678                        2          2  \n",
       "                  302                         1          1  \n",
       "                  304                         1          1  \n",
       "                  337                         1          1  \n",
       "                  339                         1          1  \n",
       "                  340                         2          2  \n",
       "                  342                         2          2  \n",
       "                  344                         2          2  \n",
       "                  345                         3          3  \n",
       "                  346                         3          3  \n",
       "                  347                         1          1  \n",
       "                  348                         2          2  \n",
       "                  350                         2          2  \n",
       "                  351                         1          1  \n",
       "...                                         ...        ...  \n",
       "8414              657                         1          1  \n",
       "                  668                         1          1  \n",
       "                  680                         1          1  \n",
       "                  699                         1          1  \n",
       "8428              2975                        1          1  \n",
       "                  2988                        1          1  \n",
       "                  6139                        1          1  \n",
       "                  6140                        1          1  \n",
       "8740              4029                        1          1  \n",
       "8774              2948                        1          1  \n",
       "                  4029                        1          1  \n",
       "8775              4029                        1          1  \n",
       "8782              2933                        1          1  \n",
       "8944              2937                        2          2  \n",
       "9026              2923                        3          3  \n",
       "                  2937                        3          3  \n",
       "9044              1682                        1          1  \n",
       "                  1701                        2          2  \n",
       "                  1706                        1          1  \n",
       "                  4317                        1          1  \n",
       "9045              1701                        1          1  \n",
       "9273              1701                        1          1  \n",
       "9327              1529                        1          1  \n",
       "                  1553                        1          1  \n",
       "                  1562                        1          1  \n",
       "                  304                         1          1  \n",
       "                  355                         1          1  \n",
       "                  3956                        1          1  \n",
       "                  548                         1          1  \n",
       "                  599                         1          1  \n",
       "\n",
       "[11835 rows x 7 columns]"
      ]
     },
     "execution_count": 12,
     "metadata": {},
     "output_type": "execute_result"
    }
   ],
   "source": [
    "df_eur.groupby([\"id_source_airport\", \"id_destination_airport\"]).count()"
   ]
  },
  {
   "cell_type": "code",
   "execution_count": 13,
   "metadata": {},
   "outputs": [
    {
     "data": {
      "text/html": [
       "<div>\n",
       "<style scoped>\n",
       "    .dataframe tbody tr th:only-of-type {\n",
       "        vertical-align: middle;\n",
       "    }\n",
       "\n",
       "    .dataframe tbody tr th {\n",
       "        vertical-align: top;\n",
       "    }\n",
       "\n",
       "    .dataframe thead th {\n",
       "        text-align: right;\n",
       "    }\n",
       "</style>\n",
       "<table border=\"1\" class=\"dataframe\">\n",
       "  <thead>\n",
       "    <tr style=\"text-align: right;\">\n",
       "      <th></th>\n",
       "      <th>airline</th>\n",
       "      <th>id_airline</th>\n",
       "      <th>source_airport</th>\n",
       "      <th>id_source_airport</th>\n",
       "      <th>destination_airport</th>\n",
       "      <th>id_destination_airport</th>\n",
       "      <th>codeshare</th>\n",
       "      <th>stops</th>\n",
       "      <th>equipment</th>\n",
       "    </tr>\n",
       "  </thead>\n",
       "  <tbody>\n",
       "    <tr>\n",
       "      <th>43722</th>\n",
       "      <td>NT</td>\n",
       "      <td>1539</td>\n",
       "      <td>FUE</td>\n",
       "      <td>1051</td>\n",
       "      <td>LPA</td>\n",
       "      <td>1054</td>\n",
       "      <td>NaN</td>\n",
       "      <td>0</td>\n",
       "      <td>AT7</td>\n",
       "    </tr>\n",
       "    <tr>\n",
       "      <th>45999</th>\n",
       "      <td>PM</td>\n",
       "      <td>5016</td>\n",
       "      <td>FUE</td>\n",
       "      <td>1051</td>\n",
       "      <td>LPA</td>\n",
       "      <td>1054</td>\n",
       "      <td>NaN</td>\n",
       "      <td>0</td>\n",
       "      <td>SWM AT4</td>\n",
       "    </tr>\n",
       "  </tbody>\n",
       "</table>\n",
       "</div>"
      ],
      "text/plain": [
       "      airline id_airline source_airport id_source_airport destination_airport  \\\n",
       "43722      NT       1539            FUE              1051                 LPA   \n",
       "45999      PM       5016            FUE              1051                 LPA   \n",
       "\n",
       "      id_destination_airport codeshare  stops equipment  \n",
       "43722                   1054       NaN      0       AT7  \n",
       "45999                   1054       NaN      0   SWM AT4  "
      ]
     },
     "execution_count": 13,
     "metadata": {},
     "output_type": "execute_result"
    }
   ],
   "source": [
    "# Example\n",
    "df_eur[((df_eur.id_source_airport == \"1051\") & (df_eur.id_destination_airport == \"1054\"))]"
   ]
  },
  {
   "cell_type": "markdown",
   "metadata": {},
   "source": [
    "### Preprocess"
   ]
  },
  {
   "cell_type": "code",
   "execution_count": 14,
   "metadata": {
    "collapsed": true
   },
   "outputs": [],
   "source": [
    "def preprocess(df):\n",
    "    # Delete rows with missing ids\n",
    "    df_processed = df[((df.id_source_airport != \"\\\\N\") & (df.id_destination_airport != \"\\\\N\"))]\n",
    "    \n",
    "    # Keep only [\"id_source_airport\", \"id_destination_airport\"] col\n",
    "    # And drop duplicates (corresponding to different airlines)\n",
    "    df_processed = df_processed[[\"source_airport\", \n",
    "                                 \"destination_airport\"]].drop_duplicates()\n",
    "    \n",
    "    # Convert ids to numeric\n",
    "#     df_processed.id_source_airport = df_processed.id_source_airport.map(pd.to_numeric)\n",
    "#     df_processed.id_destination_airport = df_processed.id_destination_airport.map(pd.to_numeric)\n",
    "    \n",
    "    return df_processed"
   ]
  },
  {
   "cell_type": "code",
   "execution_count": 15,
   "metadata": {},
   "outputs": [
    {
     "data": {
      "text/plain": [
       "(11835, 2)"
      ]
     },
     "execution_count": 15,
     "metadata": {},
     "output_type": "execute_result"
    }
   ],
   "source": [
    "df_eur_processed = preprocess(df_eur)\n",
    "df_eur_processed.shape"
   ]
  },
  {
   "cell_type": "code",
   "execution_count": 16,
   "metadata": {},
   "outputs": [
    {
     "data": {
      "text/html": [
       "<div>\n",
       "<style scoped>\n",
       "    .dataframe tbody tr th:only-of-type {\n",
       "        vertical-align: middle;\n",
       "    }\n",
       "\n",
       "    .dataframe tbody tr th {\n",
       "        vertical-align: top;\n",
       "    }\n",
       "\n",
       "    .dataframe thead th {\n",
       "        text-align: right;\n",
       "    }\n",
       "</style>\n",
       "<table border=\"1\" class=\"dataframe\">\n",
       "  <thead>\n",
       "    <tr style=\"text-align: right;\">\n",
       "      <th></th>\n",
       "      <th>source_airport</th>\n",
       "      <th>destination_airport</th>\n",
       "    </tr>\n",
       "  </thead>\n",
       "  <tbody>\n",
       "    <tr>\n",
       "      <th>0</th>\n",
       "      <td>AER</td>\n",
       "      <td>KZN</td>\n",
       "    </tr>\n",
       "    <tr>\n",
       "      <th>1</th>\n",
       "      <td>ASF</td>\n",
       "      <td>KZN</td>\n",
       "    </tr>\n",
       "    <tr>\n",
       "      <th>2</th>\n",
       "      <td>ASF</td>\n",
       "      <td>MRV</td>\n",
       "    </tr>\n",
       "    <tr>\n",
       "      <th>3</th>\n",
       "      <td>CEK</td>\n",
       "      <td>KZN</td>\n",
       "    </tr>\n",
       "    <tr>\n",
       "      <th>4</th>\n",
       "      <td>CEK</td>\n",
       "      <td>OVB</td>\n",
       "    </tr>\n",
       "  </tbody>\n",
       "</table>\n",
       "</div>"
      ],
      "text/plain": [
       "  source_airport destination_airport\n",
       "0            AER                 KZN\n",
       "1            ASF                 KZN\n",
       "2            ASF                 MRV\n",
       "3            CEK                 KZN\n",
       "4            CEK                 OVB"
      ]
     },
     "execution_count": 16,
     "metadata": {},
     "output_type": "execute_result"
    }
   ],
   "source": [
    "df_eur_processed.head()"
   ]
  },
  {
   "cell_type": "code",
   "execution_count": 17,
   "metadata": {
    "collapsed": true
   },
   "outputs": [],
   "source": [
    "airport_eur_iata_ids = list(df_eur_processed.source_airport\\\n",
    "                            .append(df_eur_processed.destination_airport).unique())"
   ]
  },
  {
   "cell_type": "code",
   "execution_count": 18,
   "metadata": {},
   "outputs": [
    {
     "name": "stdout",
     "output_type": "stream",
     "text": [
      "There are 662 unique airports in Europe\n"
     ]
    }
   ],
   "source": [
    "n_unique_airports = len(airport_eur_iata_ids)\n",
    "print(\"There are {} unique airports in Europe\".format(n_unique_airports))"
   ]
  },
  {
   "cell_type": "markdown",
   "metadata": {},
   "source": [
    "> Notice that the number of european airports in the airports table was 1071. Thus there 409 airports for which there are no routes, or for which the routes are only outside Europe.\n",
    "\n"
   ]
  },
  {
   "cell_type": "markdown",
   "metadata": {},
   "source": [
    "We will reduce the airports table to these 662 airports:"
   ]
  },
  {
   "cell_type": "code",
   "execution_count": 19,
   "metadata": {
    "collapsed": true
   },
   "outputs": [],
   "source": [
    "df_airports_eur = df_airports_eur[df_airports_eur.IATA.isin(airport_eur_iata_ids)]"
   ]
  },
  {
   "cell_type": "code",
   "execution_count": 20,
   "metadata": {},
   "outputs": [
    {
     "data": {
      "text/plain": [
       "(662, 13)"
      ]
     },
     "execution_count": 20,
     "metadata": {},
     "output_type": "execute_result"
    }
   ],
   "source": [
    "df_airports_eur.shape"
   ]
  },
  {
   "cell_type": "markdown",
   "metadata": {},
   "source": [
    "### Creating the graphs"
   ]
  },
  {
   "cell_type": "code",
   "execution_count": 21,
   "metadata": {
    "collapsed": true
   },
   "outputs": [],
   "source": [
    "arr_edges = np.array(df_eur_processed)"
   ]
  },
  {
   "cell_type": "code",
   "execution_count": 22,
   "metadata": {},
   "outputs": [
    {
     "data": {
      "text/plain": [
       "(11835, 2)"
      ]
     },
     "execution_count": 22,
     "metadata": {},
     "output_type": "execute_result"
    }
   ],
   "source": [
    "arr_edges.shape"
   ]
  },
  {
   "cell_type": "markdown",
   "metadata": {},
   "source": [
    "#### Directed graph"
   ]
  },
  {
   "cell_type": "code",
   "execution_count": 23,
   "metadata": {
    "collapsed": true
   },
   "outputs": [],
   "source": [
    "G_dir = nx.DiGraph()\n",
    "G_dir.add_edges_from(arr_edges)"
   ]
  },
  {
   "cell_type": "code",
   "execution_count": 24,
   "metadata": {},
   "outputs": [
    {
     "name": "stdout",
     "output_type": "stream",
     "text": [
      "There are 11835 directional routes\n"
     ]
    }
   ],
   "source": [
    "n_edges_dir = len(G_dir.edges())\n",
    "print(\"There are {} directional routes\".format(n_edges_dir))"
   ]
  },
  {
   "cell_type": "markdown",
   "metadata": {},
   "source": [
    "#### Undirected graph"
   ]
  },
  {
   "cell_type": "code",
   "execution_count": 25,
   "metadata": {
    "collapsed": true
   },
   "outputs": [],
   "source": [
    "G = nx.Graph()\n",
    "G.add_edges_from(arr_edges)"
   ]
  },
  {
   "cell_type": "code",
   "execution_count": 26,
   "metadata": {},
   "outputs": [
    {
     "name": "stdout",
     "output_type": "stream",
     "text": [
      "There are 5984 bidirectional routes\n"
     ]
    }
   ],
   "source": [
    "n_edges = len(G.edges())\n",
    "print(\"There are {} bidirectional routes\".format(n_edges))"
   ]
  },
  {
   "cell_type": "markdown",
   "metadata": {},
   "source": [
    "## Basic statistics"
   ]
  },
  {
   "cell_type": "code",
   "execution_count": 27,
   "metadata": {},
   "outputs": [
    {
     "name": "stdout",
     "output_type": "stream",
     "text": [
      "#Routes: 11835\n",
      "#Unique Source Airports: 661\n",
      "#Unique Target Airports: 662\n",
      "#Nodes: 662\n"
     ]
    }
   ],
   "source": [
    "print(\"#Routes: {}\".format(df_eur_processed.shape[0]))\n",
    "print(\"#Unique Source Airports: {}\".format(df_eur_processed.source_airport.nunique()))\n",
    "print(\"#Unique Target Airports: {}\".format(df_eur_processed.destination_airport.nunique()))\n",
    "nodes = np.unique(np.concatenate([df_eur_processed.source_airport, df_eur_processed.destination_airport]))\n",
    "print(\"#Nodes: {}\".format(len(nodes)))"
   ]
  },
  {
   "cell_type": "markdown",
   "metadata": {},
   "source": [
    "## Degree Distribution"
   ]
  },
  {
   "cell_type": "code",
   "execution_count": 28,
   "metadata": {
    "collapsed": true
   },
   "outputs": [],
   "source": [
    "# {(id_airport, in_degree)} dict\n",
    "in_degrees_dic = dict(G_dir.in_degree())\n",
    "# List of in_degrees\n",
    "in_degrees_list = in_degrees_dic.values()\n",
    "\n",
    "# {(id_airport, out_degree)} dict\n",
    "out_degrees_dic = dict(G_dir.out_degree())\n",
    "# List of out_degrees\n",
    "out_degrees_list = out_degrees_dic.values()"
   ]
  },
  {
   "cell_type": "markdown",
   "metadata": {},
   "source": [
    "### Biggest airports (in/out degrees)"
   ]
  },
  {
   "cell_type": "code",
   "execution_count": 29,
   "metadata": {},
   "outputs": [
    {
     "name": "stdout",
     "output_type": "stream",
     "text": [
      "Max in-degree (nodes ['AMS']): 150\n",
      "Max out-degree (nodes ['AMS']): 151\n"
     ]
    }
   ],
   "source": [
    "max_in = max(in_degrees_list)\n",
    "max_out = max(out_degrees_list)\n",
    "\n",
    "# Find node id with degrees max_in and max_out\n",
    "max_in_nodes = utils.find_key(in_degrees_dic, max_in)\n",
    "max_out_nodes = utils.find_key(out_degrees_dic, max_out)\n",
    "\n",
    "print(\"Max in-degree (nodes {}): {}\".format(max_in_nodes, max_in))\n",
    "print(\"Max out-degree (nodes {}): {}\".format(max_out_nodes, max_out))"
   ]
  },
  {
   "cell_type": "code",
   "execution_count": 30,
   "metadata": {
    "collapsed": true
   },
   "outputs": [],
   "source": [
    "# n biggest airports to show \n",
    "n_biggest = 6"
   ]
  },
  {
   "cell_type": "code",
   "execution_count": 31,
   "metadata": {
    "collapsed": true
   },
   "outputs": [],
   "source": [
    "# Use the IATA code as the index\n",
    "df_airports_eur.index = df_airports_eur.IATA"
   ]
  },
  {
   "cell_type": "code",
   "execution_count": 32,
   "metadata": {},
   "outputs": [
    {
     "data": {
      "text/html": [
       "<div>\n",
       "<style scoped>\n",
       "    .dataframe tbody tr th:only-of-type {\n",
       "        vertical-align: middle;\n",
       "    }\n",
       "\n",
       "    .dataframe tbody tr th {\n",
       "        vertical-align: top;\n",
       "    }\n",
       "\n",
       "    .dataframe thead th {\n",
       "        text-align: right;\n",
       "    }\n",
       "</style>\n",
       "<table border=\"1\" class=\"dataframe\">\n",
       "  <thead>\n",
       "    <tr style=\"text-align: right;\">\n",
       "      <th></th>\n",
       "      <th>name</th>\n",
       "      <th>city</th>\n",
       "      <th>country</th>\n",
       "      <th>IATA</th>\n",
       "      <th>ICAO</th>\n",
       "      <th>latitude</th>\n",
       "      <th>longitude</th>\n",
       "      <th>altitude</th>\n",
       "      <th>tz</th>\n",
       "      <th>dst</th>\n",
       "      <th>tz_db</th>\n",
       "      <th>type</th>\n",
       "      <th>source</th>\n",
       "    </tr>\n",
       "    <tr>\n",
       "      <th>IATA</th>\n",
       "      <th></th>\n",
       "      <th></th>\n",
       "      <th></th>\n",
       "      <th></th>\n",
       "      <th></th>\n",
       "      <th></th>\n",
       "      <th></th>\n",
       "      <th></th>\n",
       "      <th></th>\n",
       "      <th></th>\n",
       "      <th></th>\n",
       "      <th></th>\n",
       "      <th></th>\n",
       "    </tr>\n",
       "  </thead>\n",
       "  <tbody>\n",
       "    <tr>\n",
       "      <th>AEY</th>\n",
       "      <td>Akureyri Airport</td>\n",
       "      <td>Akureyri</td>\n",
       "      <td>Iceland</td>\n",
       "      <td>AEY</td>\n",
       "      <td>BIAR</td>\n",
       "      <td>65.660004</td>\n",
       "      <td>-18.072701</td>\n",
       "      <td>6</td>\n",
       "      <td>0</td>\n",
       "      <td>N</td>\n",
       "      <td>Atlantic/Reykjavik</td>\n",
       "      <td>airport</td>\n",
       "      <td>OurAirports</td>\n",
       "    </tr>\n",
       "    <tr>\n",
       "      <th>EGS</th>\n",
       "      <td>Egilsstaðir Airport</td>\n",
       "      <td>Egilsstadir</td>\n",
       "      <td>Iceland</td>\n",
       "      <td>EGS</td>\n",
       "      <td>BIEG</td>\n",
       "      <td>65.283302</td>\n",
       "      <td>-14.401400</td>\n",
       "      <td>76</td>\n",
       "      <td>0</td>\n",
       "      <td>N</td>\n",
       "      <td>Atlantic/Reykjavik</td>\n",
       "      <td>airport</td>\n",
       "      <td>OurAirports</td>\n",
       "    </tr>\n",
       "    <tr>\n",
       "      <th>IFJ</th>\n",
       "      <td>Ísafjörður Airport</td>\n",
       "      <td>Isafjordur</td>\n",
       "      <td>Iceland</td>\n",
       "      <td>IFJ</td>\n",
       "      <td>BIIS</td>\n",
       "      <td>66.058098</td>\n",
       "      <td>-23.135300</td>\n",
       "      <td>8</td>\n",
       "      <td>0</td>\n",
       "      <td>N</td>\n",
       "      <td>Atlantic/Reykjavik</td>\n",
       "      <td>airport</td>\n",
       "      <td>OurAirports</td>\n",
       "    </tr>\n",
       "    <tr>\n",
       "      <th>KEF</th>\n",
       "      <td>Keflavik International Airport</td>\n",
       "      <td>Keflavik</td>\n",
       "      <td>Iceland</td>\n",
       "      <td>KEF</td>\n",
       "      <td>BIKF</td>\n",
       "      <td>63.985001</td>\n",
       "      <td>-22.605600</td>\n",
       "      <td>171</td>\n",
       "      <td>0</td>\n",
       "      <td>N</td>\n",
       "      <td>Atlantic/Reykjavik</td>\n",
       "      <td>airport</td>\n",
       "      <td>OurAirports</td>\n",
       "    </tr>\n",
       "    <tr>\n",
       "      <th>RKV</th>\n",
       "      <td>Reykjavik Airport</td>\n",
       "      <td>Reykjavik</td>\n",
       "      <td>Iceland</td>\n",
       "      <td>RKV</td>\n",
       "      <td>BIRK</td>\n",
       "      <td>64.129997</td>\n",
       "      <td>-21.940599</td>\n",
       "      <td>48</td>\n",
       "      <td>0</td>\n",
       "      <td>N</td>\n",
       "      <td>Atlantic/Reykjavik</td>\n",
       "      <td>airport</td>\n",
       "      <td>OurAirports</td>\n",
       "    </tr>\n",
       "  </tbody>\n",
       "</table>\n",
       "</div>"
      ],
      "text/plain": [
       "                                name         city  country IATA  ICAO  \\\n",
       "IATA                                                                    \n",
       "AEY                 Akureyri Airport     Akureyri  Iceland  AEY  BIAR   \n",
       "EGS              Egilsstaðir Airport  Egilsstadir  Iceland  EGS  BIEG   \n",
       "IFJ               Ísafjörður Airport   Isafjordur  Iceland  IFJ  BIIS   \n",
       "KEF   Keflavik International Airport     Keflavik  Iceland  KEF  BIKF   \n",
       "RKV                Reykjavik Airport    Reykjavik  Iceland  RKV  BIRK   \n",
       "\n",
       "       latitude  longitude  altitude tz dst               tz_db     type  \\\n",
       "IATA                                                                       \n",
       "AEY   65.660004 -18.072701         6  0   N  Atlantic/Reykjavik  airport   \n",
       "EGS   65.283302 -14.401400        76  0   N  Atlantic/Reykjavik  airport   \n",
       "IFJ   66.058098 -23.135300         8  0   N  Atlantic/Reykjavik  airport   \n",
       "KEF   63.985001 -22.605600       171  0   N  Atlantic/Reykjavik  airport   \n",
       "RKV   64.129997 -21.940599        48  0   N  Atlantic/Reykjavik  airport   \n",
       "\n",
       "           source  \n",
       "IATA               \n",
       "AEY   OurAirports  \n",
       "EGS   OurAirports  \n",
       "IFJ   OurAirports  \n",
       "KEF   OurAirports  \n",
       "RKV   OurAirports  "
      ]
     },
     "execution_count": 32,
     "metadata": {},
     "output_type": "execute_result"
    }
   ],
   "source": [
    "df_airports_eur.head()"
   ]
  },
  {
   "cell_type": "code",
   "execution_count": 33,
   "metadata": {},
   "outputs": [
    {
     "data": {
      "text/html": [
       "<div>\n",
       "<style scoped>\n",
       "    .dataframe tbody tr th:only-of-type {\n",
       "        vertical-align: middle;\n",
       "    }\n",
       "\n",
       "    .dataframe tbody tr th {\n",
       "        vertical-align: top;\n",
       "    }\n",
       "\n",
       "    .dataframe thead th {\n",
       "        text-align: right;\n",
       "    }\n",
       "</style>\n",
       "<table border=\"1\" class=\"dataframe\">\n",
       "  <thead>\n",
       "    <tr style=\"text-align: right;\">\n",
       "      <th></th>\n",
       "      <th>source_airport</th>\n",
       "      <th>destination_airport</th>\n",
       "    </tr>\n",
       "  </thead>\n",
       "  <tbody>\n",
       "    <tr>\n",
       "      <th>0</th>\n",
       "      <td>AER</td>\n",
       "      <td>KZN</td>\n",
       "    </tr>\n",
       "    <tr>\n",
       "      <th>1</th>\n",
       "      <td>ASF</td>\n",
       "      <td>KZN</td>\n",
       "    </tr>\n",
       "    <tr>\n",
       "      <th>2</th>\n",
       "      <td>ASF</td>\n",
       "      <td>MRV</td>\n",
       "    </tr>\n",
       "    <tr>\n",
       "      <th>3</th>\n",
       "      <td>CEK</td>\n",
       "      <td>KZN</td>\n",
       "    </tr>\n",
       "    <tr>\n",
       "      <th>4</th>\n",
       "      <td>CEK</td>\n",
       "      <td>OVB</td>\n",
       "    </tr>\n",
       "  </tbody>\n",
       "</table>\n",
       "</div>"
      ],
      "text/plain": [
       "  source_airport destination_airport\n",
       "0            AER                 KZN\n",
       "1            ASF                 KZN\n",
       "2            ASF                 MRV\n",
       "3            CEK                 KZN\n",
       "4            CEK                 OVB"
      ]
     },
     "execution_count": 33,
     "metadata": {},
     "output_type": "execute_result"
    }
   ],
   "source": [
    "df_eur_processed.head()"
   ]
  },
  {
   "cell_type": "code",
   "execution_count": 34,
   "metadata": {},
   "outputs": [
    {
     "data": {
      "text/html": [
       "<div>\n",
       "<style scoped>\n",
       "    .dataframe tbody tr th:only-of-type {\n",
       "        vertical-align: middle;\n",
       "    }\n",
       "\n",
       "    .dataframe tbody tr th {\n",
       "        vertical-align: top;\n",
       "    }\n",
       "\n",
       "    .dataframe thead th {\n",
       "        text-align: right;\n",
       "    }\n",
       "</style>\n",
       "<table border=\"1\" class=\"dataframe\">\n",
       "  <thead>\n",
       "    <tr style=\"text-align: right;\">\n",
       "      <th></th>\n",
       "      <th>Number of destinations</th>\n",
       "      <th>name</th>\n",
       "      <th>city</th>\n",
       "      <th>country</th>\n",
       "    </tr>\n",
       "    <tr>\n",
       "      <th>source_airport</th>\n",
       "      <th></th>\n",
       "      <th></th>\n",
       "      <th></th>\n",
       "      <th></th>\n",
       "    </tr>\n",
       "  </thead>\n",
       "  <tbody>\n",
       "    <tr>\n",
       "      <th>AMS</th>\n",
       "      <td>151</td>\n",
       "      <td>Amsterdam Airport Schiphol</td>\n",
       "      <td>Amsterdam</td>\n",
       "      <td>Netherlands</td>\n",
       "    </tr>\n",
       "    <tr>\n",
       "      <th>STN</th>\n",
       "      <td>146</td>\n",
       "      <td>London Stansted Airport</td>\n",
       "      <td>London</td>\n",
       "      <td>United Kingdom</td>\n",
       "    </tr>\n",
       "    <tr>\n",
       "      <th>MUC</th>\n",
       "      <td>146</td>\n",
       "      <td>Munich International Airport</td>\n",
       "      <td>Munich</td>\n",
       "      <td>Germany</td>\n",
       "    </tr>\n",
       "    <tr>\n",
       "      <th>DME</th>\n",
       "      <td>144</td>\n",
       "      <td>Domodedovo International Airport</td>\n",
       "      <td>Moscow</td>\n",
       "      <td>Russia</td>\n",
       "    </tr>\n",
       "    <tr>\n",
       "      <th>BCN</th>\n",
       "      <td>136</td>\n",
       "      <td>Barcelona International Airport</td>\n",
       "      <td>Barcelona</td>\n",
       "      <td>Spain</td>\n",
       "    </tr>\n",
       "    <tr>\n",
       "      <th>FRA</th>\n",
       "      <td>134</td>\n",
       "      <td>Frankfurt am Main International Airport</td>\n",
       "      <td>Frankfurt</td>\n",
       "      <td>Germany</td>\n",
       "    </tr>\n",
       "  </tbody>\n",
       "</table>\n",
       "</div>"
      ],
      "text/plain": [
       "                Number of destinations  \\\n",
       "source_airport                           \n",
       "AMS                                151   \n",
       "STN                                146   \n",
       "MUC                                146   \n",
       "DME                                144   \n",
       "BCN                                136   \n",
       "FRA                                134   \n",
       "\n",
       "                                                   name       city  \\\n",
       "source_airport                                                       \n",
       "AMS                          Amsterdam Airport Schiphol  Amsterdam   \n",
       "STN                             London Stansted Airport     London   \n",
       "MUC                        Munich International Airport     Munich   \n",
       "DME                    Domodedovo International Airport     Moscow   \n",
       "BCN                     Barcelona International Airport  Barcelona   \n",
       "FRA             Frankfurt am Main International Airport  Frankfurt   \n",
       "\n",
       "                       country  \n",
       "source_airport                  \n",
       "AMS                Netherlands  \n",
       "STN             United Kingdom  \n",
       "MUC                    Germany  \n",
       "DME                     Russia  \n",
       "BCN                      Spain  \n",
       "FRA                    Germany  "
      ]
     },
     "execution_count": 34,
     "metadata": {},
     "output_type": "execute_result"
    }
   ],
   "source": [
    "# 6 \"biggest\" airports regarding out_degree\n",
    "df_eur_processed.groupby(\"source_airport\").count()\\\n",
    "        .sort_values(\"destination_airport\", ascending=False)[:n_biggest]\\\n",
    "        .join(df_airports_eur)\\\n",
    "        [[\"destination_airport\", \"name\", \"city\", \"country\"]]\\\n",
    "        .rename(columns= {\"destination_airport\": \"Number of destinations\"})"
   ]
  },
  {
   "cell_type": "code",
   "execution_count": 35,
   "metadata": {},
   "outputs": [
    {
     "data": {
      "text/html": [
       "<div>\n",
       "<style scoped>\n",
       "    .dataframe tbody tr th:only-of-type {\n",
       "        vertical-align: middle;\n",
       "    }\n",
       "\n",
       "    .dataframe tbody tr th {\n",
       "        vertical-align: top;\n",
       "    }\n",
       "\n",
       "    .dataframe thead th {\n",
       "        text-align: right;\n",
       "    }\n",
       "</style>\n",
       "<table border=\"1\" class=\"dataframe\">\n",
       "  <thead>\n",
       "    <tr style=\"text-align: right;\">\n",
       "      <th></th>\n",
       "      <th>Number of incoming flights</th>\n",
       "      <th>name</th>\n",
       "      <th>city</th>\n",
       "      <th>country</th>\n",
       "    </tr>\n",
       "    <tr>\n",
       "      <th>destination_airport</th>\n",
       "      <th></th>\n",
       "      <th></th>\n",
       "      <th></th>\n",
       "      <th></th>\n",
       "    </tr>\n",
       "  </thead>\n",
       "  <tbody>\n",
       "    <tr>\n",
       "      <th>AMS</th>\n",
       "      <td>150</td>\n",
       "      <td>Amsterdam Airport Schiphol</td>\n",
       "      <td>Amsterdam</td>\n",
       "      <td>Netherlands</td>\n",
       "    </tr>\n",
       "    <tr>\n",
       "      <th>DME</th>\n",
       "      <td>145</td>\n",
       "      <td>Domodedovo International Airport</td>\n",
       "      <td>Moscow</td>\n",
       "      <td>Russia</td>\n",
       "    </tr>\n",
       "    <tr>\n",
       "      <th>STN</th>\n",
       "      <td>145</td>\n",
       "      <td>London Stansted Airport</td>\n",
       "      <td>London</td>\n",
       "      <td>United Kingdom</td>\n",
       "    </tr>\n",
       "    <tr>\n",
       "      <th>MUC</th>\n",
       "      <td>144</td>\n",
       "      <td>Munich International Airport</td>\n",
       "      <td>Munich</td>\n",
       "      <td>Germany</td>\n",
       "    </tr>\n",
       "    <tr>\n",
       "      <th>BCN</th>\n",
       "      <td>136</td>\n",
       "      <td>Barcelona International Airport</td>\n",
       "      <td>Barcelona</td>\n",
       "      <td>Spain</td>\n",
       "    </tr>\n",
       "    <tr>\n",
       "      <th>IST</th>\n",
       "      <td>133</td>\n",
       "      <td>Atatürk International Airport</td>\n",
       "      <td>Istanbul</td>\n",
       "      <td>Turkey</td>\n",
       "    </tr>\n",
       "  </tbody>\n",
       "</table>\n",
       "</div>"
      ],
      "text/plain": [
       "                     Number of incoming flights  \\\n",
       "destination_airport                               \n",
       "AMS                                         150   \n",
       "DME                                         145   \n",
       "STN                                         145   \n",
       "MUC                                         144   \n",
       "BCN                                         136   \n",
       "IST                                         133   \n",
       "\n",
       "                                                 name       city  \\\n",
       "destination_airport                                                \n",
       "AMS                        Amsterdam Airport Schiphol  Amsterdam   \n",
       "DME                  Domodedovo International Airport     Moscow   \n",
       "STN                           London Stansted Airport     London   \n",
       "MUC                      Munich International Airport     Munich   \n",
       "BCN                   Barcelona International Airport  Barcelona   \n",
       "IST                     Atatürk International Airport   Istanbul   \n",
       "\n",
       "                            country  \n",
       "destination_airport                  \n",
       "AMS                     Netherlands  \n",
       "DME                          Russia  \n",
       "STN                  United Kingdom  \n",
       "MUC                         Germany  \n",
       "BCN                           Spain  \n",
       "IST                          Turkey  "
      ]
     },
     "execution_count": 35,
     "metadata": {},
     "output_type": "execute_result"
    }
   ],
   "source": [
    "# \"biggest\" airports regarding in_degree\n",
    "df_eur_processed.groupby(\"destination_airport\").count()\\\n",
    "        .sort_values(\"source_airport\", ascending=False)[:n_biggest]\\\n",
    "        .join(df_airports_eur)[[\"source_airport\", \"name\", \"city\", \"country\"]]\\\n",
    "        .rename(columns= {\"source_airport\": \"Number of incoming flights\"})"
   ]
  },
  {
   "cell_type": "markdown",
   "metadata": {},
   "source": [
    "### Plot of the (in/out)-degree distribution"
   ]
  },
  {
   "cell_type": "code",
   "execution_count": 36,
   "metadata": {},
   "outputs": [
    {
     "data": {
      "image/png": "[encoded data removed]",
      "text/plain": [
       "<matplotlib.figure.Figure at 0x113c4b630>"
      ]
     },
     "metadata": {},
     "output_type": "display_data"
    }
   ],
   "source": [
    "utils.plot_distribution(G_dir, what=\"in\", title=\"In-Degree distribution\")"
   ]
  },
  {
   "cell_type": "code",
   "execution_count": 37,
   "metadata": {},
   "outputs": [
    {
     "data": {
      "image/png": "[encoded data removed]",
      "text/plain": [
       "<matplotlib.figure.Figure at 0x113a6ee80>"
      ]
     },
     "metadata": {},
     "output_type": "display_data"
    }
   ],
   "source": [
    "utils.plot_distribution(G_dir, what=\"out\", title=\"Out-Degree distribution\")"
   ]
  },
  {
   "cell_type": "markdown",
   "metadata": {},
   "source": [
    "## Robustness"
   ]
  },
  {
   "cell_type": "code",
   "execution_count": 38,
   "metadata": {
    "collapsed": true
   },
   "outputs": [],
   "source": [
    "gcc = max(nx.connected_component_subgraphs(G), key=len)\n",
    "(props, Y_random, Y_target) = utils.create_features_for_plot(0, 0.2, 10, gcc)"
   ]
  },
  {
   "cell_type": "code",
   "execution_count": 39,
   "metadata": {},
   "outputs": [
    {
     "data": {
      "image/png": "[encoded data removed]",
      "text/plain": [
       "<matplotlib.figure.Figure at 0x113e2e6d8>"
      ]
     },
     "metadata": {},
     "output_type": "display_data"
    }
   ],
   "source": [
    "utils.plot_robustness(props, Y_random, Y_target)"
   ]
  },
  {
   "cell_type": "markdown",
   "metadata": {},
   "source": [
    "## Hazard simulation"
   ]
  },
  {
   "cell_type": "code",
   "execution_count": 40,
   "metadata": {
    "collapsed": true
   },
   "outputs": [],
   "source": [
    "from PyGeoTools.geolocation import GeoLocation\n",
    "from utils import AffectedAirports"
   ]
  },
  {
   "cell_type": "code",
   "execution_count": 41,
   "metadata": {},
   "outputs": [
    {
     "data": {
      "text/html": [
       "<div>\n",
       "<style scoped>\n",
       "    .dataframe tbody tr th:only-of-type {\n",
       "        vertical-align: middle;\n",
       "    }\n",
       "\n",
       "    .dataframe tbody tr th {\n",
       "        vertical-align: top;\n",
       "    }\n",
       "\n",
       "    .dataframe thead th {\n",
       "        text-align: right;\n",
       "    }\n",
       "</style>\n",
       "<table border=\"1\" class=\"dataframe\">\n",
       "  <thead>\n",
       "    <tr style=\"text-align: right;\">\n",
       "      <th></th>\n",
       "      <th>name</th>\n",
       "      <th>city</th>\n",
       "      <th>country</th>\n",
       "      <th>IATA</th>\n",
       "      <th>ICAO</th>\n",
       "      <th>latitude</th>\n",
       "      <th>longitude</th>\n",
       "      <th>altitude</th>\n",
       "      <th>tz</th>\n",
       "      <th>dst</th>\n",
       "      <th>tz_db</th>\n",
       "      <th>type</th>\n",
       "      <th>source</th>\n",
       "    </tr>\n",
       "    <tr>\n",
       "      <th>IATA</th>\n",
       "      <th></th>\n",
       "      <th></th>\n",
       "      <th></th>\n",
       "      <th></th>\n",
       "      <th></th>\n",
       "      <th></th>\n",
       "      <th></th>\n",
       "      <th></th>\n",
       "      <th></th>\n",
       "      <th></th>\n",
       "      <th></th>\n",
       "      <th></th>\n",
       "      <th></th>\n",
       "    </tr>\n",
       "  </thead>\n",
       "  <tbody>\n",
       "    <tr>\n",
       "      <th>AEY</th>\n",
       "      <td>Akureyri Airport</td>\n",
       "      <td>Akureyri</td>\n",
       "      <td>Iceland</td>\n",
       "      <td>AEY</td>\n",
       "      <td>BIAR</td>\n",
       "      <td>65.660004</td>\n",
       "      <td>-18.072701</td>\n",
       "      <td>6</td>\n",
       "      <td>0</td>\n",
       "      <td>N</td>\n",
       "      <td>Atlantic/Reykjavik</td>\n",
       "      <td>airport</td>\n",
       "      <td>OurAirports</td>\n",
       "    </tr>\n",
       "    <tr>\n",
       "      <th>EGS</th>\n",
       "      <td>Egilsstaðir Airport</td>\n",
       "      <td>Egilsstadir</td>\n",
       "      <td>Iceland</td>\n",
       "      <td>EGS</td>\n",
       "      <td>BIEG</td>\n",
       "      <td>65.283302</td>\n",
       "      <td>-14.401400</td>\n",
       "      <td>76</td>\n",
       "      <td>0</td>\n",
       "      <td>N</td>\n",
       "      <td>Atlantic/Reykjavik</td>\n",
       "      <td>airport</td>\n",
       "      <td>OurAirports</td>\n",
       "    </tr>\n",
       "    <tr>\n",
       "      <th>IFJ</th>\n",
       "      <td>Ísafjörður Airport</td>\n",
       "      <td>Isafjordur</td>\n",
       "      <td>Iceland</td>\n",
       "      <td>IFJ</td>\n",
       "      <td>BIIS</td>\n",
       "      <td>66.058098</td>\n",
       "      <td>-23.135300</td>\n",
       "      <td>8</td>\n",
       "      <td>0</td>\n",
       "      <td>N</td>\n",
       "      <td>Atlantic/Reykjavik</td>\n",
       "      <td>airport</td>\n",
       "      <td>OurAirports</td>\n",
       "    </tr>\n",
       "    <tr>\n",
       "      <th>KEF</th>\n",
       "      <td>Keflavik International Airport</td>\n",
       "      <td>Keflavik</td>\n",
       "      <td>Iceland</td>\n",
       "      <td>KEF</td>\n",
       "      <td>BIKF</td>\n",
       "      <td>63.985001</td>\n",
       "      <td>-22.605600</td>\n",
       "      <td>171</td>\n",
       "      <td>0</td>\n",
       "      <td>N</td>\n",
       "      <td>Atlantic/Reykjavik</td>\n",
       "      <td>airport</td>\n",
       "      <td>OurAirports</td>\n",
       "    </tr>\n",
       "    <tr>\n",
       "      <th>RKV</th>\n",
       "      <td>Reykjavik Airport</td>\n",
       "      <td>Reykjavik</td>\n",
       "      <td>Iceland</td>\n",
       "      <td>RKV</td>\n",
       "      <td>BIRK</td>\n",
       "      <td>64.129997</td>\n",
       "      <td>-21.940599</td>\n",
       "      <td>48</td>\n",
       "      <td>0</td>\n",
       "      <td>N</td>\n",
       "      <td>Atlantic/Reykjavik</td>\n",
       "      <td>airport</td>\n",
       "      <td>OurAirports</td>\n",
       "    </tr>\n",
       "  </tbody>\n",
       "</table>\n",
       "</div>"
      ],
      "text/plain": [
       "                                name         city  country IATA  ICAO  \\\n",
       "IATA                                                                    \n",
       "AEY                 Akureyri Airport     Akureyri  Iceland  AEY  BIAR   \n",
       "EGS              Egilsstaðir Airport  Egilsstadir  Iceland  EGS  BIEG   \n",
       "IFJ               Ísafjörður Airport   Isafjordur  Iceland  IFJ  BIIS   \n",
       "KEF   Keflavik International Airport     Keflavik  Iceland  KEF  BIKF   \n",
       "RKV                Reykjavik Airport    Reykjavik  Iceland  RKV  BIRK   \n",
       "\n",
       "       latitude  longitude  altitude tz dst               tz_db     type  \\\n",
       "IATA                                                                       \n",
       "AEY   65.660004 -18.072701         6  0   N  Atlantic/Reykjavik  airport   \n",
       "EGS   65.283302 -14.401400        76  0   N  Atlantic/Reykjavik  airport   \n",
       "IFJ   66.058098 -23.135300         8  0   N  Atlantic/Reykjavik  airport   \n",
       "KEF   63.985001 -22.605600       171  0   N  Atlantic/Reykjavik  airport   \n",
       "RKV   64.129997 -21.940599        48  0   N  Atlantic/Reykjavik  airport   \n",
       "\n",
       "           source  \n",
       "IATA               \n",
       "AEY   OurAirports  \n",
       "EGS   OurAirports  \n",
       "IFJ   OurAirports  \n",
       "KEF   OurAirports  \n",
       "RKV   OurAirports  "
      ]
     },
     "execution_count": 41,
     "metadata": {},
     "output_type": "execute_result"
    }
   ],
   "source": [
    "df_airports_eur.head()"
   ]
  },
  {
   "cell_type": "code",
   "execution_count": 42,
   "metadata": {},
   "outputs": [
    {
     "data": {
      "text/html": [
       "<div>\n",
       "<style scoped>\n",
       "    .dataframe tbody tr th:only-of-type {\n",
       "        vertical-align: middle;\n",
       "    }\n",
       "\n",
       "    .dataframe tbody tr th {\n",
       "        vertical-align: top;\n",
       "    }\n",
       "\n",
       "    .dataframe thead th {\n",
       "        text-align: right;\n",
       "    }\n",
       "</style>\n",
       "<table border=\"1\" class=\"dataframe\">\n",
       "  <thead>\n",
       "    <tr style=\"text-align: right;\">\n",
       "      <th></th>\n",
       "      <th>source_airport</th>\n",
       "      <th>destination_airport</th>\n",
       "    </tr>\n",
       "  </thead>\n",
       "  <tbody>\n",
       "    <tr>\n",
       "      <th>0</th>\n",
       "      <td>AER</td>\n",
       "      <td>KZN</td>\n",
       "    </tr>\n",
       "    <tr>\n",
       "      <th>1</th>\n",
       "      <td>ASF</td>\n",
       "      <td>KZN</td>\n",
       "    </tr>\n",
       "    <tr>\n",
       "      <th>2</th>\n",
       "      <td>ASF</td>\n",
       "      <td>MRV</td>\n",
       "    </tr>\n",
       "    <tr>\n",
       "      <th>3</th>\n",
       "      <td>CEK</td>\n",
       "      <td>KZN</td>\n",
       "    </tr>\n",
       "    <tr>\n",
       "      <th>4</th>\n",
       "      <td>CEK</td>\n",
       "      <td>OVB</td>\n",
       "    </tr>\n",
       "  </tbody>\n",
       "</table>\n",
       "</div>"
      ],
      "text/plain": [
       "  source_airport destination_airport\n",
       "0            AER                 KZN\n",
       "1            ASF                 KZN\n",
       "2            ASF                 MRV\n",
       "3            CEK                 KZN\n",
       "4            CEK                 OVB"
      ]
     },
     "execution_count": 42,
     "metadata": {},
     "output_type": "execute_result"
    }
   ],
   "source": [
    "df_eur_processed.head()"
   ]
  },
  {
   "cell_type": "markdown",
   "metadata": {},
   "source": [
    "Let's take as an example the AEY airport and check which airports are within 1km distance from it:"
   ]
  },
  {
   "cell_type": "code",
   "execution_count": 43,
   "metadata": {},
   "outputs": [
    {
     "name": "stdout",
     "output_type": "stream",
     "text": [
      "Number of initial airports: 662\n",
      "Number of initial routes: 5984\n",
      "Number of airports in the GCC initially: 658\n"
     ]
    }
   ],
   "source": [
    "affected_aiports = AffectedAirports(df_airports_eur, df_eur_processed)"
   ]
  },
  {
   "cell_type": "code",
   "execution_count": 44,
   "metadata": {},
   "outputs": [
    {
     "data": {
      "text/plain": [
       "(0.0015105740181268882, 0.00016711229946524063, 1.0)"
      ]
     },
     "execution_count": 44,
     "metadata": {},
     "output_type": "execute_result"
    }
   ],
   "source": [
    "affected_aiports.get_new_routes(65.660004, -18.072701, 1)"
   ]
  },
  {
   "cell_type": "markdown",
   "metadata": {},
   "source": [
    "Variables to track:\n",
    "- `AffectedAirports.proportion_airports_closed`\n",
    "- `AffectedAirports.proportion_routes_cancelled`\n",
    "- `AffectedAirports.proportion_GCC`"
   ]
  },
  {
   "cell_type": "markdown",
   "metadata": {},
   "source": [
    "Let's simulate the eruption of the Eyjafjallajokull volcano in 2010 located at (63.628303°, -19.605352°):\n"
   ]
  },
  {
   "cell_type": "code",
   "execution_count": 46,
   "metadata": {
    "collapsed": true
   },
   "outputs": [],
   "source": [
    "lat_volcano = 63.628303\n",
    "long_volcano = -19.605352"
   ]
  },
  {
   "cell_type": "code",
   "execution_count": 103,
   "metadata": {},
   "outputs": [
    {
     "name": "stdout",
     "output_type": "stream",
     "text": [
      "Proportion of closed airports: 23.565%\n",
      "Proportion of cancelled routes: 36.330%\n",
      "new GCC size / initial GCC size: 74.924%\n"
     ]
    },
    {
     "data": {
      "text/plain": [
       "(0.23564954682779457, 0.36330213903743314, 0.7492401215805471)"
      ]
     },
     "execution_count": 103,
     "metadata": {},
     "output_type": "execute_result"
    }
   ],
   "source": [
    "affected_aiports.get_new_routes(lat_volcano, long_volcano, 2000, verbose=True)"
   ]
  },
  {
   "cell_type": "markdown",
   "metadata": {},
   "source": [
    "Points extrêmes Europe:\n",
    "- Nord: 71.0814, 27.6974 \n",
    "- Sud: 35.9959, -5.5725\n",
    "- Ouest: 38.7791, -9.4726\n",
    "- Est: 66.248, 67.7604"
   ]
  },
  {
   "cell_type": "markdown",
   "metadata": {},
   "source": [
    "### Impact of Eyjafjallajökull volcano\n",
    "We simulate the impact of the volcano as the radius of the covered area grow. We notice that the % of routes closed grows faster than the % of airports closed."
   ]
  },
  {
   "cell_type": "code",
   "execution_count": 106,
   "metadata": {},
   "outputs": [
    {
     "name": "stderr",
     "output_type": "stream",
     "text": [
      "100%|██████████| 500/500 [00:45<00:00, 10.89it/s]\n"
     ]
    }
   ],
   "source": [
    "radii = range(1, 5000, 10)\n",
    "props_airports_closed_volc = []\n",
    "props_routes_closed_volc = []\n",
    "props_size_gcc_volc = []\n",
    "\n",
    "for radius in tqdm(radii):\n",
    "    prop_airports_closed, prop_routes_closed, prop_size_gcc = \\\n",
    "                        affected_aiports.simulate_hazards(lat_volcano, long_volcano, radius)\n",
    "    props_airports_closed_volc.append(prop_airports_closed)\n",
    "    props_routes_closed_volc.append(prop_routes_closed)\n",
    "    props_size_gcc_volc.append(prop_size_gcc)"
   ]
  },
  {
   "cell_type": "code",
   "execution_count": 136,
   "metadata": {},
   "outputs": [
    {
     "data": {
      "image/png": "[encoded data removed]",
      "text/plain": [
       "<matplotlib.figure.Figure at 0x1177e6cf8>"
      ]
     },
     "metadata": {},
     "output_type": "display_data"
    }
   ],
   "source": [
    "plt.figure(figsize=(7,5))\n",
    "plt.plot(props_airports_closed_volc, props_routes_closed_volc)\n",
    "plt.plot(props_airports_closed_volc, props_airports_closed_volc, 'g--')\n",
    "plt.xlabel(\"% Airports Closed\")\n",
    "plt.ylabel(\"% Routes Closed\")\n",
    "plt.title(\"% Routes Closed grows faster than the % Airports Closed\")\n",
    "plt.show()"
   ]
  },
  {
   "cell_type": "code",
   "execution_count": 135,
   "metadata": {},
   "outputs": [
    {
     "data": {
      "image/png": "[encoded data removed]",
      "text/plain": [
       "<matplotlib.figure.Figure at 0x118b94208>"
      ]
     },
     "metadata": {},
     "output_type": "display_data"
    }
   ],
   "source": [
    "plt.figure(figsize=(7,5))\n",
    "plt.scatter(props_airports_closed_volc, props_size_gcc_volc)\n",
    "plt.plot(props_airports_closed_volc, [1-prop for prop in props_airports_closed_volc], \"g--\")\n",
    "plt.xlabel(\"% Airports Closed\")\n",
    "plt.ylabel(\"Prop Size GCC\")\n",
    "plt.title(\"Prop Size GCC = f (% Airports Closed)\")\n",
    "plt.show()"
   ]
  },
  {
   "cell_type": "markdown",
   "metadata": {},
   "source": [
    "Let's see how the % of Airports Closed grows with the radius."
   ]
  },
  {
   "cell_type": "code",
   "execution_count": 146,
   "metadata": {},
   "outputs": [
    {
     "data": {
      "image/png": "[encoded data removed]",
      "text/plain": [
       "<matplotlib.figure.Figure at 0x116a93c88>"
      ]
     },
     "metadata": {},
     "output_type": "display_data"
    }
   ],
   "source": [
    "plt.figure(figsize=(7,5))\n",
    "plt.plot(radii, props_airports_closed_volc)\n",
    "plt.xlabel(\"Radius\")\n",
    "plt.ylabel(\"% Airports Closed\")\n",
    "plt.title(\"%AirportsClosed=f(Radius)\")\n",
    "plt.show()"
   ]
  },
  {
   "cell_type": "markdown",
   "metadata": {},
   "source": [
    "### Impact of random hazards in Europe\n",
    "We simulate N hazards of random centers in Europe, and random radius effect (between 1 and 5000km), and plot the effect of each in a %RoutesClosed=f(%AirportsClosed) graph"
   ]
  },
  {
   "cell_type": "code",
   "execution_count": 144,
   "metadata": {},
   "outputs": [
    {
     "name": "stderr",
     "output_type": "stream",
     "text": [
      "100%|██████████| 500/500 [01:09<00:00,  7.23it/s]\n"
     ]
    }
   ],
   "source": [
    "n_hazard = 500\n",
    "props_airports_closed = []\n",
    "props_routes_closed = []\n",
    "props_size_gcc = []\n",
    "\n",
    "for _ in tqdm(range(n_hazard)):\n",
    "    prop_airports_closed, prop_routes_closed, prop_size_gcc = affected_aiports\\\n",
    "                            .simulate_hazards()\n",
    "    props_airports_closed.append(prop_airports_closed)\n",
    "    props_routes_closed.append(prop_routes_closed)\n",
    "    props_size_gcc.append(prop_size_gcc)"
   ]
  },
  {
   "cell_type": "code",
   "execution_count": 140,
   "metadata": {},
   "outputs": [
    {
     "data": {
      "image/png": "[encoded data removed]",
      "text/plain": [
       "<matplotlib.figure.Figure at 0x1152efeb8>"
      ]
     },
     "metadata": {},
     "output_type": "display_data"
    }
   ],
   "source": [
    "plt.figure(figsize=(7,5))\n",
    "plt.scatter(props_airports_closed, props_routes_closed)\n",
    "plt.plot(props_airports_closed, props_airports_closed, 'g--')\n",
    "plt.xlabel(\"% Airports Closed\")\n",
    "plt.ylabel(\"% Routes Closed\")\n",
    "plt.title(\"% Routes Closed grows faster than the % Airports Closed\")\n",
    "plt.show()"
   ]
  },
  {
   "cell_type": "code",
   "execution_count": 145,
   "metadata": {},
   "outputs": [
    {
     "data": {
      "image/png": "[encoded data removed]",
      "text/plain": [
       "<matplotlib.figure.Figure at 0x114dc63c8>"
      ]
     },
     "metadata": {},
     "output_type": "display_data"
    }
   ],
   "source": [
    "plt.figure(figsize=(7,5))\n",
    "plt.scatter(props_airports_closed, props_size_gcc)\n",
    "plt.plot(props_airports_closed, [1-prop for prop in props_airports_closed], \"g--\")\n",
    "plt.xlabel(\"% Airports Closed\")\n",
    "plt.ylabel(\"Prop Size GCC\")\n",
    "plt.title(\"Prop Size GCC = f (% Airports Closed)\")\n",
    "plt.show()"
   ]
  },
  {
   "cell_type": "markdown",
   "metadata": {},
   "source": [
    "## Europe map with connections"
   ]
  },
  {
   "cell_type": "code",
   "execution_count": 75,
   "metadata": {},
   "outputs": [
    {
     "data": {
      "text/html": [
       "<div>\n",
       "<style scoped>\n",
       "    .dataframe tbody tr th:only-of-type {\n",
       "        vertical-align: middle;\n",
       "    }\n",
       "\n",
       "    .dataframe tbody tr th {\n",
       "        vertical-align: top;\n",
       "    }\n",
       "\n",
       "    .dataframe thead th {\n",
       "        text-align: right;\n",
       "    }\n",
       "</style>\n",
       "<table border=\"1\" class=\"dataframe\">\n",
       "  <thead>\n",
       "    <tr style=\"text-align: right;\">\n",
       "      <th></th>\n",
       "      <th>airline</th>\n",
       "      <th>id_airline</th>\n",
       "      <th>source_airport</th>\n",
       "      <th>id_source_airport</th>\n",
       "      <th>destination_airport</th>\n",
       "      <th>id_destination_airport</th>\n",
       "      <th>codeshare</th>\n",
       "      <th>stops</th>\n",
       "      <th>equipment</th>\n",
       "    </tr>\n",
       "  </thead>\n",
       "  <tbody>\n",
       "    <tr>\n",
       "      <th>0</th>\n",
       "      <td>2B</td>\n",
       "      <td>410</td>\n",
       "      <td>AER</td>\n",
       "      <td>2965</td>\n",
       "      <td>KZN</td>\n",
       "      <td>2990</td>\n",
       "      <td>NaN</td>\n",
       "      <td>0</td>\n",
       "      <td>CR2</td>\n",
       "    </tr>\n",
       "    <tr>\n",
       "      <th>1</th>\n",
       "      <td>2B</td>\n",
       "      <td>410</td>\n",
       "      <td>ASF</td>\n",
       "      <td>2966</td>\n",
       "      <td>KZN</td>\n",
       "      <td>2990</td>\n",
       "      <td>NaN</td>\n",
       "      <td>0</td>\n",
       "      <td>CR2</td>\n",
       "    </tr>\n",
       "    <tr>\n",
       "      <th>2</th>\n",
       "      <td>2B</td>\n",
       "      <td>410</td>\n",
       "      <td>ASF</td>\n",
       "      <td>2966</td>\n",
       "      <td>MRV</td>\n",
       "      <td>2962</td>\n",
       "      <td>NaN</td>\n",
       "      <td>0</td>\n",
       "      <td>CR2</td>\n",
       "    </tr>\n",
       "    <tr>\n",
       "      <th>3</th>\n",
       "      <td>2B</td>\n",
       "      <td>410</td>\n",
       "      <td>CEK</td>\n",
       "      <td>2968</td>\n",
       "      <td>KZN</td>\n",
       "      <td>2990</td>\n",
       "      <td>NaN</td>\n",
       "      <td>0</td>\n",
       "      <td>CR2</td>\n",
       "    </tr>\n",
       "    <tr>\n",
       "      <th>4</th>\n",
       "      <td>2B</td>\n",
       "      <td>410</td>\n",
       "      <td>CEK</td>\n",
       "      <td>2968</td>\n",
       "      <td>OVB</td>\n",
       "      <td>4078</td>\n",
       "      <td>NaN</td>\n",
       "      <td>0</td>\n",
       "      <td>CR2</td>\n",
       "    </tr>\n",
       "  </tbody>\n",
       "</table>\n",
       "</div>"
      ],
      "text/plain": [
       "  airline id_airline source_airport id_source_airport destination_airport  \\\n",
       "0      2B        410            AER              2965                 KZN   \n",
       "1      2B        410            ASF              2966                 KZN   \n",
       "2      2B        410            ASF              2966                 MRV   \n",
       "3      2B        410            CEK              2968                 KZN   \n",
       "4      2B        410            CEK              2968                 OVB   \n",
       "\n",
       "  id_destination_airport codeshare  stops equipment  \n",
       "0                   2990       NaN      0       CR2  \n",
       "1                   2990       NaN      0       CR2  \n",
       "2                   2962       NaN      0       CR2  \n",
       "3                   2990       NaN      0       CR2  \n",
       "4                   4078       NaN      0       CR2  "
      ]
     },
     "execution_count": 75,
     "metadata": {},
     "output_type": "execute_result"
    }
   ],
   "source": [
    "df_eur.head()"
   ]
  },
  {
   "cell_type": "code",
   "execution_count": 85,
   "metadata": {},
   "outputs": [
    {
     "data": {
      "image/png": "[encoded data removed]",
      "text/plain": [
       "<matplotlib.figure.Figure at 0x1fab57b6c18>"
      ]
     },
     "metadata": {},
     "output_type": "display_data"
    }
   ],
   "source": [
    "df_eur.groupby(\"source_airport\")[\"destination_airport\"].count().hist(bins=20)\n",
    "plt.ylabel(\"Number of source airports\")\n",
    "plt.xlabel(\"Number of routes\")\n",
    "plt.show()"
   ]
  },
  {
   "cell_type": "code",
   "execution_count": 87,
   "metadata": {},
   "outputs": [
    {
     "data": {
      "image/png": "[encoded data removed]",
      "text/plain": [
       "<matplotlib.figure.Figure at 0x1faaebd49b0>"
      ]
     },
     "metadata": {},
     "output_type": "display_data"
    }
   ],
   "source": [
    "df_eur.groupby(\"destination_airport\")[\"source_airport\"].count().hist(bins=20)\n",
    "plt.ylabel(\"Number of destination airports\")\n",
    "plt.xlabel(\"Number of routes\")\n",
    "plt.show()"
   ]
  },
  {
   "cell_type": "markdown",
   "metadata": {},
   "source": [
    "- First let's join the 2 tables to get the routes with the latitude and longitude associated"
   ]
  },
  {
   "cell_type": "code",
   "execution_count": 133,
   "metadata": {},
   "outputs": [
    {
     "data": {
      "text/html": [
       "<div>\n",
       "<style>\n",
       "    .dataframe thead tr:only-child th {\n",
       "        text-align: right;\n",
       "    }\n",
       "\n",
       "    .dataframe thead th {\n",
       "        text-align: left;\n",
       "    }\n",
       "\n",
       "    .dataframe tbody tr th {\n",
       "        vertical-align: top;\n",
       "    }\n",
       "</style>\n",
       "<table border=\"1\" class=\"dataframe\">\n",
       "  <thead>\n",
       "    <tr style=\"text-align: right;\">\n",
       "      <th></th>\n",
       "      <th>source_airport</th>\n",
       "      <th>destination_airport</th>\n",
       "      <th>latitude_source</th>\n",
       "      <th>longitude_source</th>\n",
       "      <th>latitude_dest</th>\n",
       "      <th>longitude_dest</th>\n",
       "    </tr>\n",
       "  </thead>\n",
       "  <tbody>\n",
       "    <tr>\n",
       "      <th>0</th>\n",
       "      <td>AER</td>\n",
       "      <td>KZN</td>\n",
       "      <td>43.449902</td>\n",
       "      <td>39.956600</td>\n",
       "      <td>55.606201</td>\n",
       "      <td>49.278702</td>\n",
       "    </tr>\n",
       "    <tr>\n",
       "      <th>1</th>\n",
       "      <td>ASF</td>\n",
       "      <td>KZN</td>\n",
       "      <td>46.283298</td>\n",
       "      <td>48.006302</td>\n",
       "      <td>55.606201</td>\n",
       "      <td>49.278702</td>\n",
       "    </tr>\n",
       "    <tr>\n",
       "      <th>2</th>\n",
       "      <td>ASF</td>\n",
       "      <td>MRV</td>\n",
       "      <td>46.283298</td>\n",
       "      <td>48.006302</td>\n",
       "      <td>44.225101</td>\n",
       "      <td>43.081902</td>\n",
       "    </tr>\n",
       "    <tr>\n",
       "      <th>3</th>\n",
       "      <td>CEK</td>\n",
       "      <td>KZN</td>\n",
       "      <td>55.305801</td>\n",
       "      <td>61.503300</td>\n",
       "      <td>55.606201</td>\n",
       "      <td>49.278702</td>\n",
       "    </tr>\n",
       "    <tr>\n",
       "      <th>4</th>\n",
       "      <td>CEK</td>\n",
       "      <td>OVB</td>\n",
       "      <td>55.305801</td>\n",
       "      <td>61.503300</td>\n",
       "      <td>55.012600</td>\n",
       "      <td>82.650703</td>\n",
       "    </tr>\n",
       "  </tbody>\n",
       "</table>\n",
       "</div>"
      ],
      "text/plain": [
       "  source_airport destination_airport  latitude_source  longitude_source  \\\n",
       "0            AER                 KZN        43.449902         39.956600   \n",
       "1            ASF                 KZN        46.283298         48.006302   \n",
       "2            ASF                 MRV        46.283298         48.006302   \n",
       "3            CEK                 KZN        55.305801         61.503300   \n",
       "4            CEK                 OVB        55.305801         61.503300   \n",
       "\n",
       "   latitude_dest  longitude_dest  \n",
       "0      55.606201       49.278702  \n",
       "1      55.606201       49.278702  \n",
       "2      44.225101       43.081902  \n",
       "3      55.606201       49.278702  \n",
       "4      55.012600       82.650703  "
      ]
     },
     "execution_count": 133,
     "metadata": {},
     "output_type": "execute_result"
    }
   ],
   "source": [
    "# Rename IATA by source_airport\n",
    "df_ap_source = df_airports_eur[[\"IATA\", \"latitude\", \"longitude\"]]\n",
    "df_ap_source = df_ap_source.rename(columns = {\"IATA\":\"source_airport\", \n",
    "                                              \"latitude\":\"latitude_source\",\n",
    "                                              \"longitude\":\"longitude_source\"})\n",
    "\n",
    "# Rename IATA by destination_airport\n",
    "df_ap_dest = df_airports_eur[[\"IATA\",\"latitude\",\"longitude\"]]\n",
    "df_ap_dest = df_ap_dest.rename(columns = {\"IATA\":\"destination_airport\",\n",
    "                                          \"latitude\":\"latitude_dest\",\n",
    "                                          \"longitude\":\"longitude_dest\"})\n",
    "\n",
    "# Join df on source and destination airport to get the latitude and longitude\n",
    "df_eur_j = df_eur[[\"source_airport\", \"destination_airport\"]]\n",
    "\n",
    "df_eur_j = df_eur_j.join(df_ap_source.set_index(\"source_airport\"), on=\"source_airport\")\n",
    "df_eur_j = df_eur_j.join(df_ap_dest.set_index(\"destination_airport\"), on=\"destination_airport\")\n",
    "\n",
    "df_eur_j.head()"
   ]
  },
  {
   "cell_type": "code",
   "execution_count": 172,
   "metadata": {},
   "outputs": [
    {
     "name": "stdout",
     "output_type": "stream",
     "text": [
      "18423\n",
      "16927\n"
     ]
    }
   ],
   "source": [
    "# Optional: Delete the airports with few routes\n",
    "\n",
    "# Preprocess (delete row with missing Ids and duplicates)\n",
    "# df_eur = df_eur[((df_eur.id_source_airport != \"\\\\N\") & (df_eur.id_destination_airport != \"\\\\N\"))]\n",
    "# df_eur = df_eur.drop_duplicates()\n",
    "\n",
    "# Delete source_airport with occurrence less than threshold\n",
    "def del_freq_source(df, threshold):\n",
    "    vc = df_eur['source_airport'].value_counts()\n",
    "    vals_to_remove = vc[vc <= threshold].index.values\n",
    "    df_return = df[~df['source_airport'].isin(vals_to_remove)]\n",
    "    return df_return\n",
    "\n",
    "def del_freq_dest(df, threshold):\n",
    "    vc = df_eur['destination_airport'].value_counts()\n",
    "    vals_to_remove = vc[vc <= threshold].index.values\n",
    "    df_return = df[~df['destination_airport'].isin(vals_to_remove)]\n",
    "    return df_return\n",
    "\n",
    "df_eur2 = del_freq_source(df_eur,10)\n",
    "df_eur2 = del_freq_dest(df_eur,10)\n",
    "\n",
    "print(len(df_eur))\n",
    "print(len(df_eur2))"
   ]
  },
  {
   "cell_type": "markdown",
   "metadata": {},
   "source": [
    "- First let's join the 2 tables to get the routes with the latitude and longitude associated"
   ]
  },
  {
   "cell_type": "code",
   "execution_count": 133,
   "metadata": {},
   "outputs": [
    {
     "data": {
      "text/html": [
       "<div>\n",
       "<style>\n",
       "    .dataframe thead tr:only-child th {\n",
       "        text-align: right;\n",
       "    }\n",
       "\n",
       "    .dataframe thead th {\n",
       "        text-align: left;\n",
       "    }\n",
       "\n",
       "    .dataframe tbody tr th {\n",
       "        vertical-align: top;\n",
       "    }\n",
       "</style>\n",
       "<table border=\"1\" class=\"dataframe\">\n",
       "  <thead>\n",
       "    <tr style=\"text-align: right;\">\n",
       "      <th></th>\n",
       "      <th>source_airport</th>\n",
       "      <th>destination_airport</th>\n",
       "      <th>latitude_source</th>\n",
       "      <th>longitude_source</th>\n",
       "      <th>latitude_dest</th>\n",
       "      <th>longitude_dest</th>\n",
       "    </tr>\n",
       "  </thead>\n",
       "  <tbody>\n",
       "    <tr>\n",
       "      <th>0</th>\n",
       "      <td>AER</td>\n",
       "      <td>KZN</td>\n",
       "      <td>43.449902</td>\n",
       "      <td>39.956600</td>\n",
       "      <td>55.606201</td>\n",
       "      <td>49.278702</td>\n",
       "    </tr>\n",
       "    <tr>\n",
       "      <th>1</th>\n",
       "      <td>ASF</td>\n",
       "      <td>KZN</td>\n",
       "      <td>46.283298</td>\n",
       "      <td>48.006302</td>\n",
       "      <td>55.606201</td>\n",
       "      <td>49.278702</td>\n",
       "    </tr>\n",
       "    <tr>\n",
       "      <th>2</th>\n",
       "      <td>ASF</td>\n",
       "      <td>MRV</td>\n",
       "      <td>46.283298</td>\n",
       "      <td>48.006302</td>\n",
       "      <td>44.225101</td>\n",
       "      <td>43.081902</td>\n",
       "    </tr>\n",
       "    <tr>\n",
       "      <th>3</th>\n",
       "      <td>CEK</td>\n",
       "      <td>KZN</td>\n",
       "      <td>55.305801</td>\n",
       "      <td>61.503300</td>\n",
       "      <td>55.606201</td>\n",
       "      <td>49.278702</td>\n",
       "    </tr>\n",
       "    <tr>\n",
       "      <th>4</th>\n",
       "      <td>CEK</td>\n",
       "      <td>OVB</td>\n",
       "      <td>55.305801</td>\n",
       "      <td>61.503300</td>\n",
       "      <td>55.012600</td>\n",
       "      <td>82.650703</td>\n",
       "    </tr>\n",
       "  </tbody>\n",
       "</table>\n",
       "</div>"
      ],
      "text/plain": [
       "  source_airport destination_airport  latitude_source  longitude_source  \\\n",
       "0            AER                 KZN        43.449902         39.956600   \n",
       "1            ASF                 KZN        46.283298         48.006302   \n",
       "2            ASF                 MRV        46.283298         48.006302   \n",
       "3            CEK                 KZN        55.305801         61.503300   \n",
       "4            CEK                 OVB        55.305801         61.503300   \n",
       "\n",
       "   latitude_dest  longitude_dest  \n",
       "0      55.606201       49.278702  \n",
       "1      55.606201       49.278702  \n",
       "2      44.225101       43.081902  \n",
       "3      55.606201       49.278702  \n",
       "4      55.012600       82.650703  "
      ]
     },
     "execution_count": 133,
     "metadata": {},
     "output_type": "execute_result"
    }
   ],
   "source": [
    "# Rename IATA by source_airport\n",
    "df_ap_source = df_airports_eur[[\"IATA\", \"latitude\", \"longitude\"]]\n",
    "df_ap_source = df_ap_source.rename(columns = {\"IATA\":\"source_airport\", \n",
    "                                              \"latitude\":\"latitude_source\",\n",
    "                                              \"longitude\":\"longitude_source\"})\n",
    "\n",
    "# Rename IATA by destination_airport\n",
    "df_ap_dest = df_airports_eur[[\"IATA\",\"latitude\",\"longitude\"]]\n",
    "df_ap_dest = df_ap_dest.rename(columns = {\"IATA\":\"destination_airport\",\n",
    "                                          \"latitude\":\"latitude_dest\",\n",
    "                                          \"longitude\":\"longitude_dest\"})\n",
    "\n",
    "# Join df on source and destination airport to get the latitude and longitude\n",
    "df_eur_j = df_eur[[\"source_airport\", \"destination_airport\"]]\n",
    "\n",
    "df_eur_j = df_eur_j.join(df_ap_source.set_index(\"source_airport\"), on=\"source_airport\")\n",
    "df_eur_j = df_eur_j.join(df_ap_dest.set_index(\"destination_airport\"), on=\"destination_airport\")\n",
    "\n",
    "df_eur_j.head()"
   ]
  },
  {
   "cell_type": "markdown",
   "metadata": {},
   "source": [
    "- Let's now plot the map"
   ]
  },
  {
   "cell_type": "code",
   "execution_count": 37,
   "metadata": {
    "collapsed": true
   },
   "outputs": [],
   "source": [
    "%matplotlib inline\n",
    "import numpy as np\n",
    "import matplotlib.pyplot as plt\n",
    "from mpl_toolkits.basemap import Basemap"
   ]
  },
  {
   "cell_type": "code",
   "execution_count": 142,
   "metadata": {},
   "outputs": [
    {
     "name": "stderr",
     "output_type": "stream",
     "text": [
      "/Users/nabiltoumi/anaconda3/lib/python3.6/site-packages/mpl_toolkits/basemap/__init__.py:3260: MatplotlibDeprecationWarning: The ishold function was deprecated in version 2.0.\n",
      "  b = ax.ishold()\n",
      "/Users/nabiltoumi/anaconda3/lib/python3.6/site-packages/mpl_toolkits/basemap/__init__.py:3269: MatplotlibDeprecationWarning: axes.hold is deprecated.\n",
      "    See the API Changes document (http://matplotlib.org/api/api_changes.html)\n",
      "    for more details.\n",
      "  ax.hold(b)\n"
     ]
    },
    {
     "data": {
      "image/png": "[encoded data removed]",
      "text/plain": [
       "<matplotlib.figure.Figure at 0x152e069128>"
      ]
     },
     "metadata": {},
     "output_type": "display_data"
    }
   ],
   "source": [
    "# 1. Draw the map background\n",
    "fig = plt.figure(figsize=(8, 8))\n",
    "x1 = -12\n",
    "x2 = 33\n",
    "y1 = 35\n",
    "y2 = 60\n",
    "m = Basemap(resolution='i',projection='merc', llcrnrlat=y1,urcrnrlat=y2,llcrnrlon=x1,urcrnrlon=x2,lat_ts=(x1+x2)/2)\n",
    "m.drawcountries(linewidth=0.5)\n",
    "m.drawcoastlines(linewidth=0.5)    \n",
    "\n",
    "# 2. Plot the airports\n",
    "#m.scatter(lon, lat, latlon=True, alpha=0.5)\n",
    "\n",
    "# 3. Plot the routes\n",
    "\n",
    "i = 0\n",
    "for index, row in df_eur_j.iterrows():\n",
    "    i +=1\n",
    "    lat = [row['latitude_source'], row['latitude_dest']]\n",
    "    lon = [row['longitude_source'], row['longitude_dest']]\n",
    "    x, y = m(lon,lat)\n",
    "    m.plot(x, y, 'o-', markersize=5, linewidth=0.5, c = 'b') \n",
    "    if i >=200:\n",
    "        break\n",
    "\n",
    "# Example on Paris - London\n",
    "#lat = [48.8,51.5] \n",
    "#lon = [2.3,-0.1] \n",
    "\n",
    "#x, y = m(lon, lat)\n",
    "#m.plot(x, y, 'o-', markersize=5, linewidth=1) \n"
   ]
  }
 ],
 "metadata": {
  "kernelspec": {
   "display_name": "Python 3",
   "language": "python",
   "name": "python3"
  },
  "language_info": {
   "codemirror_mode": {
    "name": "ipython",
    "version": 3
   },
   "file_extension": ".py",
   "mimetype": "text/x-python",
   "name": "python",
   "nbconvert_exporter": "python",
   "pygments_lexer": "ipython3",
   "version": "3.6.3"
  },
  "toc": {
   "nav_menu": {},
   "number_sections": true,
   "sideBar": true,
   "skip_h1_title": false,
   "title_cell": "Table of Contents",
   "title_sidebar": "Contents",
   "toc_cell": true,
   "toc_position": {
    "height": "480px",
    "left": "0px",
    "right": "1053px",
    "top": "110px",
    "width": "227px"
   },
   "toc_section_display": true,
   "toc_window_display": true
  },
  "varInspector": {
   "cols": {
    "lenName": 16,
    "lenType": 16,
    "lenVar": 40
   },
   "kernels_config": {
    "python": {
     "delete_cmd_postfix": "",
     "delete_cmd_prefix": "del ",
     "library": "var_list.py",
     "varRefreshCmd": "print(var_dic_list())"
    },
    "r": {
     "delete_cmd_postfix": ") ",
     "delete_cmd_prefix": "rm(",
     "library": "var_list.r",
     "varRefreshCmd": "cat(var_dic_list()) "
    }
   },
   "types_to_exclude": [
    "module",
    "function",
    "builtin_function_or_method",
    "instance",
    "_Feature"
   ],
   "window_display": false
  }
 },
 "nbformat": 4,
 "nbformat_minor": 2
}
